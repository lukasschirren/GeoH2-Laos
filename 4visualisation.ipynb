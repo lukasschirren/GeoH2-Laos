{
 "cells": [
  {
   "cell_type": "code",
   "execution_count": 1,
   "metadata": {},
   "outputs": [],
   "source": [
    "import geopandas as gpd\n",
    "import cartopy.crs as ccrs\n",
    "import matplotlib.pyplot as plt\n",
    "import pandas as pd\n",
    "import numpy as np\n",
    "import plotly.graph_objects as go\n",
    "import os\n",
    "from matplotlib.font_manager import FontProperties"
   ]
  },
  {
   "cell_type": "code",
   "execution_count": 2,
   "metadata": {},
   "outputs": [
    {
     "data": {
      "text/html": [
       "<div>\n",
       "<style scoped>\n",
       "    .dataframe tbody tr th:only-of-type {\n",
       "        vertical-align: middle;\n",
       "    }\n",
       "\n",
       "    .dataframe tbody tr th {\n",
       "        vertical-align: top;\n",
       "    }\n",
       "\n",
       "    .dataframe thead th {\n",
       "        text-align: right;\n",
       "    }\n",
       "</style>\n",
       "<table border=\"1\" class=\"dataframe\">\n",
       "  <thead>\n",
       "    <tr style=\"text-align: right;\">\n",
       "      <th></th>\n",
       "      <th>Generation</th>\n",
       "      <th>Hydro Year</th>\n",
       "      <th>Electrolyser</th>\n",
       "      <th>Year</th>\n",
       "      <th>Min Cost</th>\n",
       "      <th>Max Cost</th>\n",
       "      <th>Mean Cost</th>\n",
       "    </tr>\n",
       "  </thead>\n",
       "  <tbody>\n",
       "    <tr>\n",
       "      <th>0</th>\n",
       "      <td>total_generation</td>\n",
       "      <td>wet</td>\n",
       "      <td>ALK</td>\n",
       "      <td>2025</td>\n",
       "      <td>4.19</td>\n",
       "      <td>14.68</td>\n",
       "      <td>9.82</td>\n",
       "    </tr>\n",
       "    <tr>\n",
       "      <th>1</th>\n",
       "      <td>total_generation</td>\n",
       "      <td>wet</td>\n",
       "      <td>ALK</td>\n",
       "      <td>2030</td>\n",
       "      <td>3.90</td>\n",
       "      <td>15.45</td>\n",
       "      <td>7.67</td>\n",
       "    </tr>\n",
       "    <tr>\n",
       "      <th>2</th>\n",
       "      <td>total_generation</td>\n",
       "      <td>wet</td>\n",
       "      <td>PEM</td>\n",
       "      <td>2025</td>\n",
       "      <td>4.28</td>\n",
       "      <td>14.91</td>\n",
       "      <td>10.07</td>\n",
       "    </tr>\n",
       "    <tr>\n",
       "      <th>3</th>\n",
       "      <td>total_generation</td>\n",
       "      <td>wet</td>\n",
       "      <td>PEM</td>\n",
       "      <td>2030</td>\n",
       "      <td>3.99</td>\n",
       "      <td>15.75</td>\n",
       "      <td>7.94</td>\n",
       "    </tr>\n",
       "    <tr>\n",
       "      <th>4</th>\n",
       "      <td>total_generation</td>\n",
       "      <td>dry</td>\n",
       "      <td>ALK</td>\n",
       "      <td>2025</td>\n",
       "      <td>8.20</td>\n",
       "      <td>19.46</td>\n",
       "      <td>9.84</td>\n",
       "    </tr>\n",
       "    <tr>\n",
       "      <th>5</th>\n",
       "      <td>total_generation</td>\n",
       "      <td>dry</td>\n",
       "      <td>ALK</td>\n",
       "      <td>2030</td>\n",
       "      <td>6.49</td>\n",
       "      <td>15.45</td>\n",
       "      <td>7.68</td>\n",
       "    </tr>\n",
       "    <tr>\n",
       "      <th>6</th>\n",
       "      <td>total_generation</td>\n",
       "      <td>dry</td>\n",
       "      <td>PEM</td>\n",
       "      <td>2025</td>\n",
       "      <td>8.42</td>\n",
       "      <td>19.82</td>\n",
       "      <td>10.09</td>\n",
       "    </tr>\n",
       "    <tr>\n",
       "      <th>7</th>\n",
       "      <td>total_generation</td>\n",
       "      <td>dry</td>\n",
       "      <td>PEM</td>\n",
       "      <td>2030</td>\n",
       "      <td>6.75</td>\n",
       "      <td>15.75</td>\n",
       "      <td>7.95</td>\n",
       "    </tr>\n",
       "    <tr>\n",
       "      <th>8</th>\n",
       "      <td>total_generation</td>\n",
       "      <td>atlite</td>\n",
       "      <td>ALK</td>\n",
       "      <td>2025</td>\n",
       "      <td>5.92</td>\n",
       "      <td>14.68</td>\n",
       "      <td>9.79</td>\n",
       "    </tr>\n",
       "    <tr>\n",
       "      <th>9</th>\n",
       "      <td>total_generation</td>\n",
       "      <td>atlite</td>\n",
       "      <td>ALK</td>\n",
       "      <td>2030</td>\n",
       "      <td>5.13</td>\n",
       "      <td>15.45</td>\n",
       "      <td>7.65</td>\n",
       "    </tr>\n",
       "    <tr>\n",
       "      <th>10</th>\n",
       "      <td>total_generation</td>\n",
       "      <td>atlite</td>\n",
       "      <td>PEM</td>\n",
       "      <td>2025</td>\n",
       "      <td>6.01</td>\n",
       "      <td>14.91</td>\n",
       "      <td>10.04</td>\n",
       "    </tr>\n",
       "    <tr>\n",
       "      <th>11</th>\n",
       "      <td>total_generation</td>\n",
       "      <td>atlite</td>\n",
       "      <td>PEM</td>\n",
       "      <td>2030</td>\n",
       "      <td>5.33</td>\n",
       "      <td>15.75</td>\n",
       "      <td>7.91</td>\n",
       "    </tr>\n",
       "    <tr>\n",
       "      <th>12</th>\n",
       "      <td>net_generation</td>\n",
       "      <td>wet</td>\n",
       "      <td>ALK</td>\n",
       "      <td>2025</td>\n",
       "      <td>6.42</td>\n",
       "      <td>101.91</td>\n",
       "      <td>14.22</td>\n",
       "    </tr>\n",
       "    <tr>\n",
       "      <th>13</th>\n",
       "      <td>net_generation</td>\n",
       "      <td>wet</td>\n",
       "      <td>ALK</td>\n",
       "      <td>2030</td>\n",
       "      <td>6.08</td>\n",
       "      <td>62.75</td>\n",
       "      <td>11.26</td>\n",
       "    </tr>\n",
       "    <tr>\n",
       "      <th>14</th>\n",
       "      <td>net_generation</td>\n",
       "      <td>wet</td>\n",
       "      <td>PEM</td>\n",
       "      <td>2025</td>\n",
       "      <td>6.52</td>\n",
       "      <td>14.91</td>\n",
       "      <td>10.09</td>\n",
       "    </tr>\n",
       "    <tr>\n",
       "      <th>15</th>\n",
       "      <td>net_generation</td>\n",
       "      <td>wet</td>\n",
       "      <td>PEM</td>\n",
       "      <td>2030</td>\n",
       "      <td>6.28</td>\n",
       "      <td>41.43</td>\n",
       "      <td>9.84</td>\n",
       "    </tr>\n",
       "    <tr>\n",
       "      <th>16</th>\n",
       "      <td>net_generation</td>\n",
       "      <td>dry</td>\n",
       "      <td>ALK</td>\n",
       "      <td>2025</td>\n",
       "      <td>9.99</td>\n",
       "      <td>101.91</td>\n",
       "      <td>14.33</td>\n",
       "    </tr>\n",
       "    <tr>\n",
       "      <th>17</th>\n",
       "      <td>net_generation</td>\n",
       "      <td>dry</td>\n",
       "      <td>ALK</td>\n",
       "      <td>2030</td>\n",
       "      <td>7.91</td>\n",
       "      <td>62.75</td>\n",
       "      <td>11.45</td>\n",
       "    </tr>\n",
       "    <tr>\n",
       "      <th>18</th>\n",
       "      <td>net_generation</td>\n",
       "      <td>dry</td>\n",
       "      <td>PEM</td>\n",
       "      <td>2025</td>\n",
       "      <td>9.64</td>\n",
       "      <td>57.27</td>\n",
       "      <td>12.60</td>\n",
       "    </tr>\n",
       "    <tr>\n",
       "      <th>19</th>\n",
       "      <td>net_generation</td>\n",
       "      <td>dry</td>\n",
       "      <td>PEM</td>\n",
       "      <td>2030</td>\n",
       "      <td>7.51</td>\n",
       "      <td>41.43</td>\n",
       "      <td>9.95</td>\n",
       "    </tr>\n",
       "    <tr>\n",
       "      <th>20</th>\n",
       "      <td>net_generation</td>\n",
       "      <td>atlite</td>\n",
       "      <td>ALK</td>\n",
       "      <td>2025</td>\n",
       "      <td>7.78</td>\n",
       "      <td>101.91</td>\n",
       "      <td>14.13</td>\n",
       "    </tr>\n",
       "    <tr>\n",
       "      <th>21</th>\n",
       "      <td>net_generation</td>\n",
       "      <td>atlite</td>\n",
       "      <td>ALK</td>\n",
       "      <td>2030</td>\n",
       "      <td>6.53</td>\n",
       "      <td>62.75</td>\n",
       "      <td>11.26</td>\n",
       "    </tr>\n",
       "    <tr>\n",
       "      <th>22</th>\n",
       "      <td>net_generation</td>\n",
       "      <td>atlite</td>\n",
       "      <td>PEM</td>\n",
       "      <td>2025</td>\n",
       "      <td>7.83</td>\n",
       "      <td>57.27</td>\n",
       "      <td>12.44</td>\n",
       "    </tr>\n",
       "    <tr>\n",
       "      <th>23</th>\n",
       "      <td>net_generation</td>\n",
       "      <td>atlite</td>\n",
       "      <td>PEM</td>\n",
       "      <td>2030</td>\n",
       "      <td>6.53</td>\n",
       "      <td>41.43</td>\n",
       "      <td>9.86</td>\n",
       "    </tr>\n",
       "  </tbody>\n",
       "</table>\n",
       "</div>"
      ],
      "text/plain": [
       "          Generation Hydro Year Electrolyser  Year  Min Cost  Max Cost  \\\n",
       "0   total_generation        wet          ALK  2025      4.19     14.68   \n",
       "1   total_generation        wet          ALK  2030      3.90     15.45   \n",
       "2   total_generation        wet          PEM  2025      4.28     14.91   \n",
       "3   total_generation        wet          PEM  2030      3.99     15.75   \n",
       "4   total_generation        dry          ALK  2025      8.20     19.46   \n",
       "5   total_generation        dry          ALK  2030      6.49     15.45   \n",
       "6   total_generation        dry          PEM  2025      8.42     19.82   \n",
       "7   total_generation        dry          PEM  2030      6.75     15.75   \n",
       "8   total_generation     atlite          ALK  2025      5.92     14.68   \n",
       "9   total_generation     atlite          ALK  2030      5.13     15.45   \n",
       "10  total_generation     atlite          PEM  2025      6.01     14.91   \n",
       "11  total_generation     atlite          PEM  2030      5.33     15.75   \n",
       "12    net_generation        wet          ALK  2025      6.42    101.91   \n",
       "13    net_generation        wet          ALK  2030      6.08     62.75   \n",
       "14    net_generation        wet          PEM  2025      6.52     14.91   \n",
       "15    net_generation        wet          PEM  2030      6.28     41.43   \n",
       "16    net_generation        dry          ALK  2025      9.99    101.91   \n",
       "17    net_generation        dry          ALK  2030      7.91     62.75   \n",
       "18    net_generation        dry          PEM  2025      9.64     57.27   \n",
       "19    net_generation        dry          PEM  2030      7.51     41.43   \n",
       "20    net_generation     atlite          ALK  2025      7.78    101.91   \n",
       "21    net_generation     atlite          ALK  2030      6.53     62.75   \n",
       "22    net_generation     atlite          PEM  2025      7.83     57.27   \n",
       "23    net_generation     atlite          PEM  2030      6.53     41.43   \n",
       "\n",
       "    Mean Cost  \n",
       "0        9.82  \n",
       "1        7.67  \n",
       "2       10.07  \n",
       "3        7.94  \n",
       "4        9.84  \n",
       "5        7.68  \n",
       "6       10.09  \n",
       "7        7.95  \n",
       "8        9.79  \n",
       "9        7.65  \n",
       "10      10.04  \n",
       "11       7.91  \n",
       "12      14.22  \n",
       "13      11.26  \n",
       "14      10.09  \n",
       "15       9.84  \n",
       "16      14.33  \n",
       "17      11.45  \n",
       "18      12.60  \n",
       "19       9.95  \n",
       "20      14.13  \n",
       "21      11.26  \n",
       "22      12.44  \n",
       "23       9.86  "
      ]
     },
     "metadata": {},
     "output_type": "display_data"
    }
   ],
   "source": [
    "\n",
    "def create_cost_summary():\n",
    "    summary_data = []\n",
    "    \n",
    "    for gen in [\"total_generation\", \"net_generation\"]:\n",
    "        for hydro in [\"wet\", \"dry\", \"atlite\"]:\n",
    "            for elec in [\"ALK\", \"PEM\"]:\n",
    "                for year in [\"25\", \"30\"]:\n",
    "                    try:\n",
    "                        path = f'Resources/{gen}/Scenario_{hydro}_{elec}_{year}/hex_cost_components.geojson'\n",
    "                        data = gpd.read_file(path)\n",
    "                        cost_data = data['Vientiane trucking production cost']\n",
    "                        \n",
    "                        summary_data.append({\n",
    "                            'Generation': gen,\n",
    "                            'Hydro Year': hydro,\n",
    "                            'Electrolyser': elec,\n",
    "                            'Year': f\"20{year}\",\n",
    "                            'Min Cost': cost_data.min(),\n",
    "                            'Max Cost': cost_data.max(),\n",
    "                            'Mean Cost': cost_data.mean()\n",
    "                        })\n",
    "                    except Exception as e:\n",
    "                        print(f\"Could not process {path}: {e}\")\n",
    "                        continue\n",
    "    \n",
    "    df = pd.DataFrame(summary_data)\n",
    "    df = df.round(2)\n",
    "    \n",
    "    # Save to CSV\n",
    "    os.makedirs('Results', exist_ok=True)\n",
    "    output_path = 'Results/cost_summary.csv'\n",
    "    df.to_csv(output_path, index=False)\n",
    "    \n",
    "    return df\n",
    "\n",
    "# Create and display summary\n",
    "summary_df = create_cost_summary()\n",
    "display(summary_df)"
   ]
  },
  {
   "cell_type": "code",
   "execution_count": 3,
   "metadata": {},
   "outputs": [
    {
     "data": {
      "application/vnd.plotly.v1+json": {
       "config": {
        "plotlyServerURL": "https://plot.ly"
       },
       "data": [
        {
         "marker": {
          "color": "#1f77b4"
         },
         "name": "Battery",
         "type": "bar",
         "x": [
          "Wet ALK",
          "Wet PEM",
          "Dry ALK",
          "Dry PEM",
          "Atlite ALK",
          "Atlite PEM"
         ],
         "y": [
          0.0028061110023937354,
          0.0028061110023930315,
          0.29283478509027006,
          0.43003331921469207,
          0.00638254800677118,
          0.006811410095385593
         ]
        },
        {
         "marker": {
          "color": "#ff7f0e"
         },
         "name": "Electrolyzer",
         "type": "bar",
         "x": [
          "Wet ALK",
          "Wet PEM",
          "Dry ALK",
          "Dry PEM",
          "Atlite ALK",
          "Atlite PEM"
         ],
         "y": [
          0.7853603429706977,
          0.8751158107387778,
          1.9176372324903865,
          2.011431311075935,
          0.8032910684787302,
          0.8943712582067489
         ]
        },
        {
         "marker": {
          "color": "#2ca02c"
         },
         "name": "H2 Storage",
         "type": "bar",
         "x": [
          "Wet ALK",
          "Wet PEM",
          "Dry ALK",
          "Dry PEM",
          "Atlite ALK",
          "Atlite PEM"
         ],
         "y": [
          0.06262957940767243,
          0.06262957940767577,
          0.3076235222226678,
          0.30121453293004147,
          0.8153368848703901,
          0.8118610955091989
         ]
        },
        {
         "marker": {
          "color": "#d62728"
         },
         "name": "Wind",
         "type": "bar",
         "x": [
          "Wet ALK",
          "Wet PEM",
          "Dry ALK",
          "Dry PEM",
          "Atlite ALK",
          "Atlite PEM"
         ],
         "y": [
          0,
          0,
          0,
          0,
          0,
          0
         ]
        },
        {
         "marker": {
          "color": "#9467bd"
         },
         "name": "Solar",
         "type": "bar",
         "x": [
          "Wet ALK",
          "Wet PEM",
          "Dry ALK",
          "Dry PEM",
          "Atlite ALK",
          "Atlite PEM"
         ],
         "y": [
          0,
          0,
          3.8261689174386913,
          3.815682538559764,
          0.18210583540395112,
          0.17978564945918393
         ]
        },
        {
         "marker": {
          "color": "#8c564b"
         },
         "name": "Hydro",
         "type": "bar",
         "x": [
          "Wet ALK",
          "Wet PEM",
          "Dry ALK",
          "Dry PEM",
          "Atlite ALK",
          "Atlite PEM"
         ],
         "y": [
          3.334333289631272,
          3.33433328963127,
          1.8531997078276468,
          1.8545940715637108,
          4.111986555144172,
          4.118051904511393
         ]
        },
        {
         "marker": {
          "color": "black",
          "size": 10
         },
         "mode": "markers+text",
         "name": "Total Cost",
         "text": [
          "4.19",
          "4.28",
          "8.20",
          "8.42",
          "5.92",
          "6.01"
         ],
         "textposition": "top center",
         "type": "scatter",
         "x": [
          "Wet ALK",
          "Wet PEM",
          "Dry ALK",
          "Dry PEM",
          "Atlite ALK",
          "Atlite PEM"
         ],
         "y": [
          4.187627205906787,
          4.277436243978278,
          8.202356798949735,
          8.417977022796336,
          5.922635692141431,
          6.014468895719707
         ]
        }
       ],
       "layout": {
        "barmode": "relative",
        "height": 600,
        "legend": {
         "x": 1.05,
         "xanchor": "left",
         "y": 0.99,
         "yanchor": "top"
        },
        "margin": {
         "r": 150
        },
        "template": {
         "data": {
          "bar": [
           {
            "error_x": {
             "color": "#2a3f5f"
            },
            "error_y": {
             "color": "#2a3f5f"
            },
            "marker": {
             "line": {
              "color": "#E5ECF6",
              "width": 0.5
             },
             "pattern": {
              "fillmode": "overlay",
              "size": 10,
              "solidity": 0.2
             }
            },
            "type": "bar"
           }
          ],
          "barpolar": [
           {
            "marker": {
             "line": {
              "color": "#E5ECF6",
              "width": 0.5
             },
             "pattern": {
              "fillmode": "overlay",
              "size": 10,
              "solidity": 0.2
             }
            },
            "type": "barpolar"
           }
          ],
          "carpet": [
           {
            "aaxis": {
             "endlinecolor": "#2a3f5f",
             "gridcolor": "white",
             "linecolor": "white",
             "minorgridcolor": "white",
             "startlinecolor": "#2a3f5f"
            },
            "baxis": {
             "endlinecolor": "#2a3f5f",
             "gridcolor": "white",
             "linecolor": "white",
             "minorgridcolor": "white",
             "startlinecolor": "#2a3f5f"
            },
            "type": "carpet"
           }
          ],
          "choropleth": [
           {
            "colorbar": {
             "outlinewidth": 0,
             "ticks": ""
            },
            "type": "choropleth"
           }
          ],
          "contour": [
           {
            "colorbar": {
             "outlinewidth": 0,
             "ticks": ""
            },
            "colorscale": [
             [
              0,
              "#0d0887"
             ],
             [
              0.1111111111111111,
              "#46039f"
             ],
             [
              0.2222222222222222,
              "#7201a8"
             ],
             [
              0.3333333333333333,
              "#9c179e"
             ],
             [
              0.4444444444444444,
              "#bd3786"
             ],
             [
              0.5555555555555556,
              "#d8576b"
             ],
             [
              0.6666666666666666,
              "#ed7953"
             ],
             [
              0.7777777777777778,
              "#fb9f3a"
             ],
             [
              0.8888888888888888,
              "#fdca26"
             ],
             [
              1,
              "#f0f921"
             ]
            ],
            "type": "contour"
           }
          ],
          "contourcarpet": [
           {
            "colorbar": {
             "outlinewidth": 0,
             "ticks": ""
            },
            "type": "contourcarpet"
           }
          ],
          "heatmap": [
           {
            "colorbar": {
             "outlinewidth": 0,
             "ticks": ""
            },
            "colorscale": [
             [
              0,
              "#0d0887"
             ],
             [
              0.1111111111111111,
              "#46039f"
             ],
             [
              0.2222222222222222,
              "#7201a8"
             ],
             [
              0.3333333333333333,
              "#9c179e"
             ],
             [
              0.4444444444444444,
              "#bd3786"
             ],
             [
              0.5555555555555556,
              "#d8576b"
             ],
             [
              0.6666666666666666,
              "#ed7953"
             ],
             [
              0.7777777777777778,
              "#fb9f3a"
             ],
             [
              0.8888888888888888,
              "#fdca26"
             ],
             [
              1,
              "#f0f921"
             ]
            ],
            "type": "heatmap"
           }
          ],
          "heatmapgl": [
           {
            "colorbar": {
             "outlinewidth": 0,
             "ticks": ""
            },
            "colorscale": [
             [
              0,
              "#0d0887"
             ],
             [
              0.1111111111111111,
              "#46039f"
             ],
             [
              0.2222222222222222,
              "#7201a8"
             ],
             [
              0.3333333333333333,
              "#9c179e"
             ],
             [
              0.4444444444444444,
              "#bd3786"
             ],
             [
              0.5555555555555556,
              "#d8576b"
             ],
             [
              0.6666666666666666,
              "#ed7953"
             ],
             [
              0.7777777777777778,
              "#fb9f3a"
             ],
             [
              0.8888888888888888,
              "#fdca26"
             ],
             [
              1,
              "#f0f921"
             ]
            ],
            "type": "heatmapgl"
           }
          ],
          "histogram": [
           {
            "marker": {
             "pattern": {
              "fillmode": "overlay",
              "size": 10,
              "solidity": 0.2
             }
            },
            "type": "histogram"
           }
          ],
          "histogram2d": [
           {
            "colorbar": {
             "outlinewidth": 0,
             "ticks": ""
            },
            "colorscale": [
             [
              0,
              "#0d0887"
             ],
             [
              0.1111111111111111,
              "#46039f"
             ],
             [
              0.2222222222222222,
              "#7201a8"
             ],
             [
              0.3333333333333333,
              "#9c179e"
             ],
             [
              0.4444444444444444,
              "#bd3786"
             ],
             [
              0.5555555555555556,
              "#d8576b"
             ],
             [
              0.6666666666666666,
              "#ed7953"
             ],
             [
              0.7777777777777778,
              "#fb9f3a"
             ],
             [
              0.8888888888888888,
              "#fdca26"
             ],
             [
              1,
              "#f0f921"
             ]
            ],
            "type": "histogram2d"
           }
          ],
          "histogram2dcontour": [
           {
            "colorbar": {
             "outlinewidth": 0,
             "ticks": ""
            },
            "colorscale": [
             [
              0,
              "#0d0887"
             ],
             [
              0.1111111111111111,
              "#46039f"
             ],
             [
              0.2222222222222222,
              "#7201a8"
             ],
             [
              0.3333333333333333,
              "#9c179e"
             ],
             [
              0.4444444444444444,
              "#bd3786"
             ],
             [
              0.5555555555555556,
              "#d8576b"
             ],
             [
              0.6666666666666666,
              "#ed7953"
             ],
             [
              0.7777777777777778,
              "#fb9f3a"
             ],
             [
              0.8888888888888888,
              "#fdca26"
             ],
             [
              1,
              "#f0f921"
             ]
            ],
            "type": "histogram2dcontour"
           }
          ],
          "mesh3d": [
           {
            "colorbar": {
             "outlinewidth": 0,
             "ticks": ""
            },
            "type": "mesh3d"
           }
          ],
          "parcoords": [
           {
            "line": {
             "colorbar": {
              "outlinewidth": 0,
              "ticks": ""
             }
            },
            "type": "parcoords"
           }
          ],
          "pie": [
           {
            "automargin": true,
            "type": "pie"
           }
          ],
          "scatter": [
           {
            "fillpattern": {
             "fillmode": "overlay",
             "size": 10,
             "solidity": 0.2
            },
            "type": "scatter"
           }
          ],
          "scatter3d": [
           {
            "line": {
             "colorbar": {
              "outlinewidth": 0,
              "ticks": ""
             }
            },
            "marker": {
             "colorbar": {
              "outlinewidth": 0,
              "ticks": ""
             }
            },
            "type": "scatter3d"
           }
          ],
          "scattercarpet": [
           {
            "marker": {
             "colorbar": {
              "outlinewidth": 0,
              "ticks": ""
             }
            },
            "type": "scattercarpet"
           }
          ],
          "scattergeo": [
           {
            "marker": {
             "colorbar": {
              "outlinewidth": 0,
              "ticks": ""
             }
            },
            "type": "scattergeo"
           }
          ],
          "scattergl": [
           {
            "marker": {
             "colorbar": {
              "outlinewidth": 0,
              "ticks": ""
             }
            },
            "type": "scattergl"
           }
          ],
          "scattermapbox": [
           {
            "marker": {
             "colorbar": {
              "outlinewidth": 0,
              "ticks": ""
             }
            },
            "type": "scattermapbox"
           }
          ],
          "scatterpolar": [
           {
            "marker": {
             "colorbar": {
              "outlinewidth": 0,
              "ticks": ""
             }
            },
            "type": "scatterpolar"
           }
          ],
          "scatterpolargl": [
           {
            "marker": {
             "colorbar": {
              "outlinewidth": 0,
              "ticks": ""
             }
            },
            "type": "scatterpolargl"
           }
          ],
          "scatterternary": [
           {
            "marker": {
             "colorbar": {
              "outlinewidth": 0,
              "ticks": ""
             }
            },
            "type": "scatterternary"
           }
          ],
          "surface": [
           {
            "colorbar": {
             "outlinewidth": 0,
             "ticks": ""
            },
            "colorscale": [
             [
              0,
              "#0d0887"
             ],
             [
              0.1111111111111111,
              "#46039f"
             ],
             [
              0.2222222222222222,
              "#7201a8"
             ],
             [
              0.3333333333333333,
              "#9c179e"
             ],
             [
              0.4444444444444444,
              "#bd3786"
             ],
             [
              0.5555555555555556,
              "#d8576b"
             ],
             [
              0.6666666666666666,
              "#ed7953"
             ],
             [
              0.7777777777777778,
              "#fb9f3a"
             ],
             [
              0.8888888888888888,
              "#fdca26"
             ],
             [
              1,
              "#f0f921"
             ]
            ],
            "type": "surface"
           }
          ],
          "table": [
           {
            "cells": {
             "fill": {
              "color": "#EBF0F8"
             },
             "line": {
              "color": "white"
             }
            },
            "header": {
             "fill": {
              "color": "#C8D4E3"
             },
             "line": {
              "color": "white"
             }
            },
            "type": "table"
           }
          ]
         },
         "layout": {
          "annotationdefaults": {
           "arrowcolor": "#2a3f5f",
           "arrowhead": 0,
           "arrowwidth": 1
          },
          "autotypenumbers": "strict",
          "coloraxis": {
           "colorbar": {
            "outlinewidth": 0,
            "ticks": ""
           }
          },
          "colorscale": {
           "diverging": [
            [
             0,
             "#8e0152"
            ],
            [
             0.1,
             "#c51b7d"
            ],
            [
             0.2,
             "#de77ae"
            ],
            [
             0.3,
             "#f1b6da"
            ],
            [
             0.4,
             "#fde0ef"
            ],
            [
             0.5,
             "#f7f7f7"
            ],
            [
             0.6,
             "#e6f5d0"
            ],
            [
             0.7,
             "#b8e186"
            ],
            [
             0.8,
             "#7fbc41"
            ],
            [
             0.9,
             "#4d9221"
            ],
            [
             1,
             "#276419"
            ]
           ],
           "sequential": [
            [
             0,
             "#0d0887"
            ],
            [
             0.1111111111111111,
             "#46039f"
            ],
            [
             0.2222222222222222,
             "#7201a8"
            ],
            [
             0.3333333333333333,
             "#9c179e"
            ],
            [
             0.4444444444444444,
             "#bd3786"
            ],
            [
             0.5555555555555556,
             "#d8576b"
            ],
            [
             0.6666666666666666,
             "#ed7953"
            ],
            [
             0.7777777777777778,
             "#fb9f3a"
            ],
            [
             0.8888888888888888,
             "#fdca26"
            ],
            [
             1,
             "#f0f921"
            ]
           ],
           "sequentialminus": [
            [
             0,
             "#0d0887"
            ],
            [
             0.1111111111111111,
             "#46039f"
            ],
            [
             0.2222222222222222,
             "#7201a8"
            ],
            [
             0.3333333333333333,
             "#9c179e"
            ],
            [
             0.4444444444444444,
             "#bd3786"
            ],
            [
             0.5555555555555556,
             "#d8576b"
            ],
            [
             0.6666666666666666,
             "#ed7953"
            ],
            [
             0.7777777777777778,
             "#fb9f3a"
            ],
            [
             0.8888888888888888,
             "#fdca26"
            ],
            [
             1,
             "#f0f921"
            ]
           ]
          },
          "colorway": [
           "#636efa",
           "#EF553B",
           "#00cc96",
           "#ab63fa",
           "#FFA15A",
           "#19d3f3",
           "#FF6692",
           "#B6E880",
           "#FF97FF",
           "#FECB52"
          ],
          "font": {
           "color": "#2a3f5f"
          },
          "geo": {
           "bgcolor": "white",
           "lakecolor": "white",
           "landcolor": "#E5ECF6",
           "showlakes": true,
           "showland": true,
           "subunitcolor": "white"
          },
          "hoverlabel": {
           "align": "left"
          },
          "hovermode": "closest",
          "mapbox": {
           "style": "light"
          },
          "paper_bgcolor": "white",
          "plot_bgcolor": "#E5ECF6",
          "polar": {
           "angularaxis": {
            "gridcolor": "white",
            "linecolor": "white",
            "ticks": ""
           },
           "bgcolor": "#E5ECF6",
           "radialaxis": {
            "gridcolor": "white",
            "linecolor": "white",
            "ticks": ""
           }
          },
          "scene": {
           "xaxis": {
            "backgroundcolor": "#E5ECF6",
            "gridcolor": "white",
            "gridwidth": 2,
            "linecolor": "white",
            "showbackground": true,
            "ticks": "",
            "zerolinecolor": "white"
           },
           "yaxis": {
            "backgroundcolor": "#E5ECF6",
            "gridcolor": "white",
            "gridwidth": 2,
            "linecolor": "white",
            "showbackground": true,
            "ticks": "",
            "zerolinecolor": "white"
           },
           "zaxis": {
            "backgroundcolor": "#E5ECF6",
            "gridcolor": "white",
            "gridwidth": 2,
            "linecolor": "white",
            "showbackground": true,
            "ticks": "",
            "zerolinecolor": "white"
           }
          },
          "shapedefaults": {
           "line": {
            "color": "#2a3f5f"
           }
          },
          "ternary": {
           "aaxis": {
            "gridcolor": "white",
            "linecolor": "white",
            "ticks": ""
           },
           "baxis": {
            "gridcolor": "white",
            "linecolor": "white",
            "ticks": ""
           },
           "bgcolor": "#E5ECF6",
           "caxis": {
            "gridcolor": "white",
            "linecolor": "white",
            "ticks": ""
           }
          },
          "title": {
           "x": 0.05
          },
          "xaxis": {
           "automargin": true,
           "gridcolor": "white",
           "linecolor": "white",
           "ticks": "",
           "title": {
            "standoff": 15
           },
           "zerolinecolor": "white",
           "zerolinewidth": 2
          },
          "yaxis": {
           "automargin": true,
           "gridcolor": "white",
           "linecolor": "white",
           "ticks": "",
           "title": {
            "standoff": 15
           },
           "zerolinecolor": "white",
           "zerolinewidth": 2
          }
         }
        },
        "title": {
         "text": "Cost Components Comparison - 2025 Scenarios"
        },
        "width": 1000,
        "xaxis": {
         "title": {
          "text": "Scenario"
         }
        },
        "yaxis": {
         "title": {
          "text": "LCOH (USD/kgH2)"
         }
        }
       }
      }
     },
     "metadata": {},
     "output_type": "display_data"
    }
   ],
   "source": [
    "import plotly.graph_objects as go\n",
    "import geopandas as gpd\n",
    "import pandas as pd\n",
    "import numpy as np\n",
    "\n",
    "def create_combined_waterfall():\n",
    "    # Define scenarios and components\n",
    "    scenarios = [\n",
    "        ('wet', 'ALK'), ('wet', 'PEM'),\n",
    "        ('dry', 'ALK'), ('dry', 'PEM'),\n",
    "        ('atlite', 'ALK'), ('atlite', 'PEM')\n",
    "    ]\n",
    "    \n",
    "    components = [\n",
    "        ('battery costs portion', 'Battery'),\n",
    "        ('electrolyzer portion', 'Electrolyzer'),\n",
    "        ('H2 storage portion', 'H2 Storage'),\n",
    "        ('wind portion', 'Wind'),\n",
    "        ('solar portion', 'Solar'),\n",
    "        ('hydro portion', 'Hydro')\n",
    "    ]\n",
    "    \n",
    "    # Collect data\n",
    "    data_dict = {}\n",
    "    for hydro, elec in scenarios:\n",
    "        path = f'Resources/total_generation/Scenario_{hydro}_{elec}_25/hex_cost_components.geojson'\n",
    "        data = gpd.read_file(path)\n",
    "        min_idx = data['Vientiane trucking production cost'].idxmin()\n",
    "        min_hex = data.loc[min_idx]\n",
    "        \n",
    "        # Store values\n",
    "        scenario_name = f\"{hydro.capitalize()} {elec}\"\n",
    "        data_dict[scenario_name] = {\n",
    "            'components': [min_hex[f'Vientiane LCOH - trucking {comp[0]}'] for comp in components],\n",
    "            'total': min_hex['Vientiane trucking production cost']\n",
    "        }\n",
    "    \n",
    "    # Create figure\n",
    "    fig = go.Figure()\n",
    "    \n",
    "    # Set bar positions\n",
    "    scenario_positions = np.arange(len(scenarios))\n",
    "    bar_width = 0.15\n",
    "    \n",
    "    # Add component bars\n",
    "    colors = ['#1f77b4', '#ff7f0e', '#2ca02c', '#d62728', '#9467bd', '#8c564b']\n",
    "    for idx, (_, comp_name) in enumerate(components):\n",
    "        y_values = [data_dict[scen]['components'][idx] for scen in data_dict]\n",
    "        \n",
    "        fig.add_trace(go.Bar(\n",
    "            name=comp_name,\n",
    "            x=list(data_dict.keys()),\n",
    "            y=y_values,\n",
    "            marker_color=colors[idx]\n",
    "        ))\n",
    "    \n",
    "    # Add total markers\n",
    "    fig.add_trace(go.Scatter(\n",
    "        name='Total Cost',\n",
    "        x=list(data_dict.keys()),\n",
    "        y=[data_dict[scen]['total'] for scen in data_dict],\n",
    "        mode='markers+text',\n",
    "        marker=dict(color='black', size=10),\n",
    "        text=[f\"{v:.2f}\" for v in [data_dict[scen]['total'] for scen in data_dict]],\n",
    "        textposition='top center'\n",
    "    ))\n",
    "    \n",
    "    # Update layout\n",
    "    fig.update_layout(\n",
    "        barmode='relative',\n",
    "        title='Cost Components Comparison - 2025 Scenarios',\n",
    "        xaxis_title='Scenario',\n",
    "        yaxis_title='LCOH (USD/kgH2)',\n",
    "        legend=dict(\n",
    "            yanchor=\"top\",\n",
    "            y=0.99,\n",
    "            xanchor=\"left\",\n",
    "            x=1.05\n",
    "        ),\n",
    "        width=1000,\n",
    "        height=600,\n",
    "        margin=dict(r=150)\n",
    "    )\n",
    "    \n",
    "    # Save figure\n",
    "    fig.write_html(\"Results/waterfall_comparison_combined_2025.html\")\n",
    "    # fig.write_image(\"Results/waterfall_comparison_combined_2025.png\", scale=2)\n",
    "    \n",
    "    return fig\n",
    "\n",
    "# Execute\n",
    "waterfall_fig = create_combined_waterfall()\n",
    "waterfall_fig.show()"
   ]
  },
  {
   "cell_type": "code",
   "execution_count": 33,
   "metadata": {},
   "outputs": [
    {
     "data": {
      "image/png": "[encoded data removed]",
      "text/plain": [
       "<Figure size 1500x800 with 1 Axes>"
      ]
     },
     "metadata": {},
     "output_type": "display_data"
    }
   ],
   "source": [
    "import matplotlib.pyplot as plt\n",
    "import geopandas as gpd\n",
    "import numpy as np\n",
    "\n",
    "def plot_cost_components():\n",
    "    # Setup data\n",
    "    scenarios = [\n",
    "        ('wet', 'ALK', '25'), ('wet', 'PEM', '25'),\n",
    "        ('dry', 'ALK', '25'), ('dry', 'PEM', '25'),\n",
    "        ('atlite', 'ALK', '25'), ('atlite', 'PEM', '25'),\n",
    "        ('wet', 'ALK', '30'), ('wet', 'PEM', '30'),\n",
    "        ('dry', 'ALK', '30'), ('dry', 'PEM', '30'),\n",
    "        ('atlite', 'ALK', '30'), ('atlite', 'PEM', '30')\n",
    "    ]\n",
    "    \n",
    "    components = {\n",
    "        'solar': {'col': 'solar portion', 'label': 'Solar', \n",
    "                 'color': '#FFD700AA'},  # golden yellow with alpha\n",
    "        'wind': {'col': 'wind portion', 'label': 'Wind', \n",
    "                'color': '#40E0D0AA'},  # turquoise with alpha\n",
    "        'hydro': {'col': 'hydro portion', 'label': 'Hydro', \n",
    "                 'color': '#000080AA'},  # deep blue with alpha\n",
    "        'battery': {'col': 'battery costs portion', 'label': 'Battery', \n",
    "                   'color': '#DC143CAA'},  # crimson red with alpha\n",
    "        'electrolyzer': {'col': 'electrolyzer portion', 'label': 'Electrolyzer', \n",
    "                        'color': '#228B22AA'},  # forest green with alpha\n",
    "        'h2_storage': {'col': 'H2 storage portion', 'label': 'H2 Storage', \n",
    "                      'color': '#800080AA'}  # purple with alpha\n",
    "    }\n",
    "    \n",
    "    # Initialize data arrays\n",
    "    n_scenarios = len(scenarios)\n",
    "    data_matrix = np.zeros((len(components), n_scenarios))\n",
    "    totals = np.zeros(n_scenarios)\n",
    "    \n",
    "    # Load data\n",
    "    for i, (hydro, elec, year) in enumerate(scenarios):\n",
    "        data = gpd.read_file(f'Resources/net_generation/Scenario_{hydro}_{elec}_{year}/hex_cost_components.geojson')\n",
    "        min_idx = data['Vientiane trucking production cost'].idxmin()\n",
    "        \n",
    "        for j, comp in enumerate(components.values()):\n",
    "            data_matrix[j, i] = data.loc[min_idx, f'Vientiane LCOH - trucking {comp[\"col\"]}']\n",
    "        totals[i] = data.loc[min_idx, 'Vientiane trucking production cost']\n",
    "    \n",
    "    # Create visualization\n",
    "    fig, ax = plt.subplots(figsize=(15, 8))\n",
    "    bottom = np.zeros(n_scenarios)\n",
    "    \n",
    "    for idx, (_, comp) in enumerate(components.items()):\n",
    "        values = data_matrix[idx, :]\n",
    "        bars = ax.bar(range(n_scenarios), values, bottom=bottom, \n",
    "                     label=comp['label'], color=comp['color'])\n",
    "        \n",
    "        # Value labels - all black, larger font\n",
    "        for i, v in enumerate(values):\n",
    "            if v > 0.25:\n",
    "                y_pos = bottom[i] + v/2\n",
    "                offset = (idx % 3 - 1) * 0.15\n",
    "                y_pos += offset\n",
    "                ax.text(i, y_pos, f'{v:.2f}', \n",
    "                       ha='center', va='center', \n",
    "                       color='black',\n",
    "                       fontsize=13, fontweight='bold')\n",
    "        bottom += values\n",
    "    \n",
    "    # Styling with larger fonts\n",
    "    ax.set_xlabel('Scenario', fontsize=16, labelpad=10)\n",
    "    ax.set_ylabel('LCOH (USD/kgH2)', fontsize=16, labelpad=10)\n",
    "    ax.set_xticks(range(n_scenarios))\n",
    "    ax.set_xticklabels([f'{h.capitalize()} {e} 20{y}' for h, e, y in scenarios], \n",
    "                       rotation=45, ha='right', fontsize=14)\n",
    "    \n",
    "    ax.spines['top'].set_visible(False)\n",
    "    ax.spines['right'].set_visible(False)\n",
    "    ax.tick_params(axis='y', labelsize=16)\n",
    "    \n",
    "    # Legend with larger font\n",
    "    ax.legend(bbox_to_anchor=(0.9, 1.1), loc='upper left', \n",
    "             fontsize=16, frameon=False)\n",
    "    \n",
    "    # Total values with border and larger font\n",
    "    for i, total in enumerate(totals):\n",
    "        ax.text(i, bottom[i] + 0.5, f'{total:.2f}', \n",
    "                ha='center', va='bottom', fontsize=15, \n",
    "                fontweight='bold', color='black',\n",
    "                bbox=dict(facecolor='white', edgecolor='black', \n",
    "                         alpha=0.8, pad=3))\n",
    "    \n",
    "    plt.tight_layout()\n",
    "    return fig\n",
    "\n",
    "# Execute\n",
    "fig = plot_cost_components()\n",
    "plt.show()"
   ]
  },
  {
   "cell_type": "markdown",
   "metadata": {},
   "source": [
    "## Visualisation"
   ]
  },
  {
   "cell_type": "code",
   "execution_count": 6,
   "metadata": {},
   "outputs": [
    {
     "data": {
      "text/html": [
       "<div>\n",
       "<style scoped>\n",
       "    .dataframe tbody tr th:only-of-type {\n",
       "        vertical-align: middle;\n",
       "    }\n",
       "\n",
       "    .dataframe tbody tr th {\n",
       "        vertical-align: top;\n",
       "    }\n",
       "\n",
       "    .dataframe thead th {\n",
       "        text-align: right;\n",
       "    }\n",
       "</style>\n",
       "<table border=\"1\" class=\"dataframe\">\n",
       "  <thead>\n",
       "    <tr style=\"text-align: right;\">\n",
       "      <th></th>\n",
       "      <th>h3_index</th>\n",
       "      <th>n0</th>\n",
       "      <th>n1</th>\n",
       "      <th>n2</th>\n",
       "      <th>n3</th>\n",
       "      <th>n4</th>\n",
       "      <th>n5</th>\n",
       "      <th>waterbody_dist</th>\n",
       "      <th>waterway_dist</th>\n",
       "      <th>road_dist</th>\n",
       "      <th>...</th>\n",
       "      <th>Vientiane LCOH - trucking electrolyzer portion</th>\n",
       "      <th>Vientiane trucking H2 storage costs</th>\n",
       "      <th>Vientiane LCOH - trucking H2 storage portion</th>\n",
       "      <th>Vientiane trucking wind costs</th>\n",
       "      <th>Vientiane LCOH - trucking wind portion</th>\n",
       "      <th>Vientiane trucking solar costs</th>\n",
       "      <th>Vientiane LCOH - trucking solar portion</th>\n",
       "      <th>Vientiane trucking hydro costs</th>\n",
       "      <th>Vientiane LCOH - trucking hydro portion</th>\n",
       "      <th>geometry</th>\n",
       "    </tr>\n",
       "  </thead>\n",
       "  <tbody>\n",
       "    <tr>\n",
       "      <th>0</th>\n",
       "      <td>85414d57fffffff</td>\n",
       "      <td>135</td>\n",
       "      <td>563</td>\n",
       "      <td>738</td>\n",
       "      <td>590</td>\n",
       "      <td>661</td>\n",
       "      <td>392</td>\n",
       "      <td>0.000000</td>\n",
       "      <td>0.0</td>\n",
       "      <td>0.0</td>\n",
       "      <td>...</td>\n",
       "      <td>1.446484</td>\n",
       "      <td>2.159456e+06</td>\n",
       "      <td>0.378852</td>\n",
       "      <td>0.0</td>\n",
       "      <td>0.0</td>\n",
       "      <td>2.537587e+07</td>\n",
       "      <td>4.451906</td>\n",
       "      <td>2.445510e+06</td>\n",
       "      <td>0.429037</td>\n",
       "      <td>POLYGON ((103.46453 19.04274, 103.44104 19.134...</td>\n",
       "    </tr>\n",
       "    <tr>\n",
       "      <th>1</th>\n",
       "      <td>85416b53fffffff</td>\n",
       "      <td>110</td>\n",
       "      <td>602</td>\n",
       "      <td>549</td>\n",
       "      <td>45</td>\n",
       "      <td>705</td>\n",
       "      <td>929</td>\n",
       "      <td>0.000000</td>\n",
       "      <td>0.0</td>\n",
       "      <td>0.0</td>\n",
       "      <td>...</td>\n",
       "      <td>1.631367</td>\n",
       "      <td>4.880991e+06</td>\n",
       "      <td>0.856314</td>\n",
       "      <td>0.0</td>\n",
       "      <td>0.0</td>\n",
       "      <td>3.164104e+07</td>\n",
       "      <td>5.551059</td>\n",
       "      <td>0.000000e+00</td>\n",
       "      <td>0.000000</td>\n",
       "      <td>POLYGON ((104.46562 18.23086, 104.4426 18.3232...</td>\n",
       "    </tr>\n",
       "    <tr>\n",
       "      <th>2</th>\n",
       "      <td>85414c07fffffff</td>\n",
       "      <td>408</td>\n",
       "      <td>496</td>\n",
       "      <td>244</td>\n",
       "      <td>234</td>\n",
       "      <td>603</td>\n",
       "      <td>473</td>\n",
       "      <td>11.131949</td>\n",
       "      <td>0.0</td>\n",
       "      <td>0.0</td>\n",
       "      <td>...</td>\n",
       "      <td>1.569703</td>\n",
       "      <td>4.296548e+06</td>\n",
       "      <td>0.753780</td>\n",
       "      <td>0.0</td>\n",
       "      <td>0.0</td>\n",
       "      <td>3.238446e+07</td>\n",
       "      <td>5.681485</td>\n",
       "      <td>0.000000e+00</td>\n",
       "      <td>0.000000</td>\n",
       "      <td>POLYGON ((104.25779 19.06077, 104.23462 19.152...</td>\n",
       "    </tr>\n",
       "    <tr>\n",
       "      <th>4</th>\n",
       "      <td>8541496bfffffff</td>\n",
       "      <td>388</td>\n",
       "      <td>90</td>\n",
       "      <td>804</td>\n",
       "      <td>750</td>\n",
       "      <td>619</td>\n",
       "      <td>671</td>\n",
       "      <td>11.131949</td>\n",
       "      <td>0.0</td>\n",
       "      <td>0.0</td>\n",
       "      <td>...</td>\n",
       "      <td>1.548623</td>\n",
       "      <td>2.964135e+06</td>\n",
       "      <td>0.520024</td>\n",
       "      <td>0.0</td>\n",
       "      <td>0.0</td>\n",
       "      <td>2.863745e+07</td>\n",
       "      <td>5.024114</td>\n",
       "      <td>0.000000e+00</td>\n",
       "      <td>0.000000</td>\n",
       "      <td>POLYGON ((102.26097 20.24363, 102.23692 20.335...</td>\n",
       "    </tr>\n",
       "    <tr>\n",
       "      <th>5</th>\n",
       "      <td>85414b53fffffff</td>\n",
       "      <td>536</td>\n",
       "      <td>271</td>\n",
       "      <td>380</td>\n",
       "      <td>193</td>\n",
       "      <td>0</td>\n",
       "      <td>0</td>\n",
       "      <td>22.263898</td>\n",
       "      <td>0.0</td>\n",
       "      <td>0.0</td>\n",
       "      <td>...</td>\n",
       "      <td>1.430644</td>\n",
       "      <td>5.209999e+06</td>\n",
       "      <td>0.914035</td>\n",
       "      <td>0.0</td>\n",
       "      <td>0.0</td>\n",
       "      <td>2.949706e+07</td>\n",
       "      <td>5.174922</td>\n",
       "      <td>0.000000e+00</td>\n",
       "      <td>0.000000</td>\n",
       "      <td>POLYGON ((103.13781 21.00166, 103.11404 21.092...</td>\n",
       "    </tr>\n",
       "    <tr>\n",
       "      <th>...</th>\n",
       "      <td>...</td>\n",
       "      <td>...</td>\n",
       "      <td>...</td>\n",
       "      <td>...</td>\n",
       "      <td>...</td>\n",
       "      <td>...</td>\n",
       "      <td>...</td>\n",
       "      <td>...</td>\n",
       "      <td>...</td>\n",
       "      <td>...</td>\n",
       "      <td>...</td>\n",
       "      <td>...</td>\n",
       "      <td>...</td>\n",
       "      <td>...</td>\n",
       "      <td>...</td>\n",
       "      <td>...</td>\n",
       "      <td>...</td>\n",
       "      <td>...</td>\n",
       "      <td>...</td>\n",
       "      <td>...</td>\n",
       "      <td>...</td>\n",
       "    </tr>\n",
       "    <tr>\n",
       "      <th>1131</th>\n",
       "      <td>85659293fffffff</td>\n",
       "      <td>576</td>\n",
       "      <td>61</td>\n",
       "      <td>33</td>\n",
       "      <td>785</td>\n",
       "      <td>464</td>\n",
       "      <td>82</td>\n",
       "      <td>0.000000</td>\n",
       "      <td>0.0</td>\n",
       "      <td>0.0</td>\n",
       "      <td>...</td>\n",
       "      <td>0.000000</td>\n",
       "      <td>0.000000e+00</td>\n",
       "      <td>0.000000</td>\n",
       "      <td>0.0</td>\n",
       "      <td>0.0</td>\n",
       "      <td>0.000000e+00</td>\n",
       "      <td>0.000000</td>\n",
       "      <td>0.000000e+00</td>\n",
       "      <td>0.000000</td>\n",
       "      <td>POLYGON ((106.83208 14.92253, 106.81028 15.015...</td>\n",
       "    </tr>\n",
       "    <tr>\n",
       "      <th>1132</th>\n",
       "      <td>8564b3dbfffffff</td>\n",
       "      <td>882</td>\n",
       "      <td>871</td>\n",
       "      <td>312</td>\n",
       "      <td>904</td>\n",
       "      <td>48</td>\n",
       "      <td>310</td>\n",
       "      <td>0.000000</td>\n",
       "      <td>0.0</td>\n",
       "      <td>0.0</td>\n",
       "      <td>...</td>\n",
       "      <td>1.480339</td>\n",
       "      <td>4.968572e+06</td>\n",
       "      <td>0.871679</td>\n",
       "      <td>0.0</td>\n",
       "      <td>0.0</td>\n",
       "      <td>3.032633e+07</td>\n",
       "      <td>5.320409</td>\n",
       "      <td>0.000000e+00</td>\n",
       "      <td>0.000000</td>\n",
       "      <td>POLYGON ((101.50712 18.33107, 101.48293 18.423...</td>\n",
       "    </tr>\n",
       "    <tr>\n",
       "      <th>1133</th>\n",
       "      <td>856490cffffffff</td>\n",
       "      <td>243</td>\n",
       "      <td>153</td>\n",
       "      <td>425</td>\n",
       "      <td>375</td>\n",
       "      <td>719</td>\n",
       "      <td>341</td>\n",
       "      <td>0.000000</td>\n",
       "      <td>0.0</td>\n",
       "      <td>0.0</td>\n",
       "      <td>...</td>\n",
       "      <td>1.520971</td>\n",
       "      <td>4.979844e+06</td>\n",
       "      <td>0.873657</td>\n",
       "      <td>0.0</td>\n",
       "      <td>0.0</td>\n",
       "      <td>2.982003e+07</td>\n",
       "      <td>5.231585</td>\n",
       "      <td>0.000000e+00</td>\n",
       "      <td>0.000000</td>\n",
       "      <td>POLYGON ((100.70284 20.34594, 100.6782 20.4374...</td>\n",
       "    </tr>\n",
       "    <tr>\n",
       "      <th>1134</th>\n",
       "      <td>85659067fffffff</td>\n",
       "      <td>30</td>\n",
       "      <td>792</td>\n",
       "      <td>693</td>\n",
       "      <td>228</td>\n",
       "      <td>129</td>\n",
       "      <td>492</td>\n",
       "      <td>0.000000</td>\n",
       "      <td>0.0</td>\n",
       "      <td>0.0</td>\n",
       "      <td>...</td>\n",
       "      <td>1.401979</td>\n",
       "      <td>6.273436e+06</td>\n",
       "      <td>1.100603</td>\n",
       "      <td>0.0</td>\n",
       "      <td>0.0</td>\n",
       "      <td>2.919535e+07</td>\n",
       "      <td>5.121991</td>\n",
       "      <td>0.000000e+00</td>\n",
       "      <td>0.000000</td>\n",
       "      <td>POLYGON ((105.84584 14.71295, 105.82364 14.806...</td>\n",
       "    </tr>\n",
       "    <tr>\n",
       "      <th>1135</th>\n",
       "      <td>854060affffffff</td>\n",
       "      <td>176</td>\n",
       "      <td>8</td>\n",
       "      <td>722</td>\n",
       "      <td>183</td>\n",
       "      <td>0</td>\n",
       "      <td>0</td>\n",
       "      <td>0.000000</td>\n",
       "      <td>0.0</td>\n",
       "      <td>0.0</td>\n",
       "      <td>...</td>\n",
       "      <td>0.000000</td>\n",
       "      <td>0.000000e+00</td>\n",
       "      <td>0.000000</td>\n",
       "      <td>0.0</td>\n",
       "      <td>0.0</td>\n",
       "      <td>0.000000e+00</td>\n",
       "      <td>0.000000</td>\n",
       "      <td>0.000000e+00</td>\n",
       "      <td>0.000000</td>\n",
       "      <td>POLYGON ((101.85062 22.46108, 101.82623 22.551...</td>\n",
       "    </tr>\n",
       "  </tbody>\n",
       "</table>\n",
       "<p>940 rows × 51 columns</p>\n",
       "</div>"
      ],
      "text/plain": [
       "             h3_index   n0   n1   n2   n3   n4   n5  waterbody_dist  \\\n",
       "0     85414d57fffffff  135  563  738  590  661  392        0.000000   \n",
       "1     85416b53fffffff  110  602  549   45  705  929        0.000000   \n",
       "2     85414c07fffffff  408  496  244  234  603  473       11.131949   \n",
       "4     8541496bfffffff  388   90  804  750  619  671       11.131949   \n",
       "5     85414b53fffffff  536  271  380  193    0    0       22.263898   \n",
       "...               ...  ...  ...  ...  ...  ...  ...             ...   \n",
       "1131  85659293fffffff  576   61   33  785  464   82        0.000000   \n",
       "1132  8564b3dbfffffff  882  871  312  904   48  310        0.000000   \n",
       "1133  856490cffffffff  243  153  425  375  719  341        0.000000   \n",
       "1134  85659067fffffff   30  792  693  228  129  492        0.000000   \n",
       "1135  854060affffffff  176    8  722  183    0    0        0.000000   \n",
       "\n",
       "      waterway_dist  road_dist  ...  \\\n",
       "0               0.0        0.0  ...   \n",
       "1               0.0        0.0  ...   \n",
       "2               0.0        0.0  ...   \n",
       "4               0.0        0.0  ...   \n",
       "5               0.0        0.0  ...   \n",
       "...             ...        ...  ...   \n",
       "1131            0.0        0.0  ...   \n",
       "1132            0.0        0.0  ...   \n",
       "1133            0.0        0.0  ...   \n",
       "1134            0.0        0.0  ...   \n",
       "1135            0.0        0.0  ...   \n",
       "\n",
       "      Vientiane LCOH - trucking electrolyzer portion  \\\n",
       "0                                           1.446484   \n",
       "1                                           1.631367   \n",
       "2                                           1.569703   \n",
       "4                                           1.548623   \n",
       "5                                           1.430644   \n",
       "...                                              ...   \n",
       "1131                                        0.000000   \n",
       "1132                                        1.480339   \n",
       "1133                                        1.520971   \n",
       "1134                                        1.401979   \n",
       "1135                                        0.000000   \n",
       "\n",
       "      Vientiane trucking H2 storage costs  \\\n",
       "0                            2.159456e+06   \n",
       "1                            4.880991e+06   \n",
       "2                            4.296548e+06   \n",
       "4                            2.964135e+06   \n",
       "5                            5.209999e+06   \n",
       "...                                   ...   \n",
       "1131                         0.000000e+00   \n",
       "1132                         4.968572e+06   \n",
       "1133                         4.979844e+06   \n",
       "1134                         6.273436e+06   \n",
       "1135                         0.000000e+00   \n",
       "\n",
       "      Vientiane LCOH - trucking H2 storage portion  \\\n",
       "0                                         0.378852   \n",
       "1                                         0.856314   \n",
       "2                                         0.753780   \n",
       "4                                         0.520024   \n",
       "5                                         0.914035   \n",
       "...                                            ...   \n",
       "1131                                      0.000000   \n",
       "1132                                      0.871679   \n",
       "1133                                      0.873657   \n",
       "1134                                      1.100603   \n",
       "1135                                      0.000000   \n",
       "\n",
       "      Vientiane trucking wind costs  Vientiane LCOH - trucking wind portion  \\\n",
       "0                               0.0                                     0.0   \n",
       "1                               0.0                                     0.0   \n",
       "2                               0.0                                     0.0   \n",
       "4                               0.0                                     0.0   \n",
       "5                               0.0                                     0.0   \n",
       "...                             ...                                     ...   \n",
       "1131                            0.0                                     0.0   \n",
       "1132                            0.0                                     0.0   \n",
       "1133                            0.0                                     0.0   \n",
       "1134                            0.0                                     0.0   \n",
       "1135                            0.0                                     0.0   \n",
       "\n",
       "     Vientiane trucking solar costs  Vientiane LCOH - trucking solar portion  \\\n",
       "0                      2.537587e+07                                 4.451906   \n",
       "1                      3.164104e+07                                 5.551059   \n",
       "2                      3.238446e+07                                 5.681485   \n",
       "4                      2.863745e+07                                 5.024114   \n",
       "5                      2.949706e+07                                 5.174922   \n",
       "...                             ...                                      ...   \n",
       "1131                   0.000000e+00                                 0.000000   \n",
       "1132                   3.032633e+07                                 5.320409   \n",
       "1133                   2.982003e+07                                 5.231585   \n",
       "1134                   2.919535e+07                                 5.121991   \n",
       "1135                   0.000000e+00                                 0.000000   \n",
       "\n",
       "      Vientiane trucking hydro costs Vientiane LCOH - trucking hydro portion  \\\n",
       "0                       2.445510e+06                                0.429037   \n",
       "1                       0.000000e+00                                0.000000   \n",
       "2                       0.000000e+00                                0.000000   \n",
       "4                       0.000000e+00                                0.000000   \n",
       "5                       0.000000e+00                                0.000000   \n",
       "...                              ...                                     ...   \n",
       "1131                    0.000000e+00                                0.000000   \n",
       "1132                    0.000000e+00                                0.000000   \n",
       "1133                    0.000000e+00                                0.000000   \n",
       "1134                    0.000000e+00                                0.000000   \n",
       "1135                    0.000000e+00                                0.000000   \n",
       "\n",
       "                                               geometry  \n",
       "0     POLYGON ((103.46453 19.04274, 103.44104 19.134...  \n",
       "1     POLYGON ((104.46562 18.23086, 104.4426 18.3232...  \n",
       "2     POLYGON ((104.25779 19.06077, 104.23462 19.152...  \n",
       "4     POLYGON ((102.26097 20.24363, 102.23692 20.335...  \n",
       "5     POLYGON ((103.13781 21.00166, 103.11404 21.092...  \n",
       "...                                                 ...  \n",
       "1131  POLYGON ((106.83208 14.92253, 106.81028 15.015...  \n",
       "1132  POLYGON ((101.50712 18.33107, 101.48293 18.423...  \n",
       "1133  POLYGON ((100.70284 20.34594, 100.6782 20.4374...  \n",
       "1134  POLYGON ((105.84584 14.71295, 105.82364 14.806...  \n",
       "1135  POLYGON ((101.85062 22.46108, 101.82623 22.551...  \n",
       "\n",
       "[940 rows x 51 columns]"
      ]
     },
     "execution_count": 6,
     "metadata": {},
     "output_type": "execute_result"
    }
   ],
   "source": [
    "gdf_data = gpd.read_file(f'Resources\\\\total_generation\\\\Scenario_{hydro_year}_{electrolyser_type}_{scenario_year}\\\\hex_cost_components.geojson')\n",
    "gdf_data = gdf_data.drop_duplicates(subset=['h3_index'])\n",
    "gdf_data"
   ]
  },
  {
   "cell_type": "code",
   "execution_count": 4,
   "metadata": {},
   "outputs": [
    {
     "ename": "DataSourceError",
     "evalue": "Resources\\Scenario_wet_ALK_30\\hex_cost_components.geojson: No such file or directory",
     "output_type": "error",
     "traceback": [
      "\u001b[1;31m---------------------------------------------------------------------------\u001b[0m",
      "\u001b[1;31mDataSourceError\u001b[0m                           Traceback (most recent call last)",
      "Cell \u001b[1;32mIn[4], line 6\u001b[0m\n\u001b[0;32m      3\u001b[0m electrolyser_type \u001b[38;5;241m=\u001b[39m \u001b[38;5;124m\"\u001b[39m\u001b[38;5;124mALK\u001b[39m\u001b[38;5;124m\"\u001b[39m \u001b[38;5;66;03m# ALK PEM\u001b[39;00m\n\u001b[0;32m      5\u001b[0m \u001b[38;5;66;03m# gdf_data = gpd.read_file(f'Resources\\\\net_generation\\\\Scenario_{hydro_year}_{electrolyser_type}_{scenario_year}\\\\hex_cost_components.geojson')\u001b[39;00m\n\u001b[1;32m----> 6\u001b[0m gdf_data \u001b[38;5;241m=\u001b[39m gpd\u001b[38;5;241m.\u001b[39mread_file(\u001b[38;5;124mf\u001b[39m\u001b[38;5;124m'\u001b[39m\u001b[38;5;124mResources\u001b[39m\u001b[38;5;130;01m\\\\\u001b[39;00m\u001b[38;5;124mScenario_\u001b[39m\u001b[38;5;132;01m{\u001b[39;00mhydro_year\u001b[38;5;132;01m}\u001b[39;00m\u001b[38;5;124m_\u001b[39m\u001b[38;5;132;01m{\u001b[39;00melectrolyser_type\u001b[38;5;132;01m}\u001b[39;00m\u001b[38;5;124m_\u001b[39m\u001b[38;5;132;01m{\u001b[39;00mscenario_year\u001b[38;5;132;01m}\u001b[39;00m\u001b[38;5;130;01m\\\\\u001b[39;00m\u001b[38;5;124mhex_cost_components.geojson\u001b[39m\u001b[38;5;124m'\u001b[39m)\n\u001b[0;32m      7\u001b[0m gdf_data \u001b[38;5;241m=\u001b[39m gdf_data\u001b[38;5;241m.\u001b[39mdrop_duplicates(subset\u001b[38;5;241m=\u001b[39m[\u001b[38;5;124m'\u001b[39m\u001b[38;5;124mh3_index\u001b[39m\u001b[38;5;124m'\u001b[39m])\n\u001b[0;32m      9\u001b[0m generate_waterfall_chart(gdf_data, \u001b[38;5;124m'\u001b[39m\u001b[38;5;124mtrucking\u001b[39m\u001b[38;5;124m'\u001b[39m)\n",
      "File \u001b[1;32mc:\\Users\\ls2823\\AppData\\Local\\anaconda3\\Lib\\site-packages\\geopandas\\io\\file.py:294\u001b[0m, in \u001b[0;36m_read_file\u001b[1;34m(filename, bbox, mask, columns, rows, engine, **kwargs)\u001b[0m\n\u001b[0;32m    291\u001b[0m             from_bytes \u001b[38;5;241m=\u001b[39m \u001b[38;5;28;01mTrue\u001b[39;00m\n\u001b[0;32m    293\u001b[0m \u001b[38;5;28;01mif\u001b[39;00m engine \u001b[38;5;241m==\u001b[39m \u001b[38;5;124m\"\u001b[39m\u001b[38;5;124mpyogrio\u001b[39m\u001b[38;5;124m\"\u001b[39m:\n\u001b[1;32m--> 294\u001b[0m     \u001b[38;5;28;01mreturn\u001b[39;00m _read_file_pyogrio(\n\u001b[0;32m    295\u001b[0m         filename, bbox\u001b[38;5;241m=\u001b[39mbbox, mask\u001b[38;5;241m=\u001b[39mmask, columns\u001b[38;5;241m=\u001b[39mcolumns, rows\u001b[38;5;241m=\u001b[39mrows, \u001b[38;5;241m*\u001b[39m\u001b[38;5;241m*\u001b[39mkwargs\n\u001b[0;32m    296\u001b[0m     )\n\u001b[0;32m    298\u001b[0m \u001b[38;5;28;01melif\u001b[39;00m engine \u001b[38;5;241m==\u001b[39m \u001b[38;5;124m\"\u001b[39m\u001b[38;5;124mfiona\u001b[39m\u001b[38;5;124m\"\u001b[39m:\n\u001b[0;32m    299\u001b[0m     \u001b[38;5;28;01mif\u001b[39;00m pd\u001b[38;5;241m.\u001b[39mapi\u001b[38;5;241m.\u001b[39mtypes\u001b[38;5;241m.\u001b[39mis_file_like(filename):\n",
      "File \u001b[1;32mc:\\Users\\ls2823\\AppData\\Local\\anaconda3\\Lib\\site-packages\\geopandas\\io\\file.py:547\u001b[0m, in \u001b[0;36m_read_file_pyogrio\u001b[1;34m(path_or_bytes, bbox, mask, rows, **kwargs)\u001b[0m\n\u001b[0;32m    538\u001b[0m     warnings\u001b[38;5;241m.\u001b[39mwarn(\n\u001b[0;32m    539\u001b[0m         \u001b[38;5;124m\"\u001b[39m\u001b[38;5;124mThe \u001b[39m\u001b[38;5;124m'\u001b[39m\u001b[38;5;124minclude_fields\u001b[39m\u001b[38;5;124m'\u001b[39m\u001b[38;5;124m and \u001b[39m\u001b[38;5;124m'\u001b[39m\u001b[38;5;124mignore_fields\u001b[39m\u001b[38;5;124m'\u001b[39m\u001b[38;5;124m keywords are deprecated, and \u001b[39m\u001b[38;5;124m\"\u001b[39m\n\u001b[0;32m    540\u001b[0m         \u001b[38;5;124m\"\u001b[39m\u001b[38;5;124mwill be removed in a future release. You can use the \u001b[39m\u001b[38;5;124m'\u001b[39m\u001b[38;5;124mcolumns\u001b[39m\u001b[38;5;124m'\u001b[39m\u001b[38;5;124m keyword \u001b[39m\u001b[38;5;124m\"\u001b[39m\n\u001b[1;32m   (...)\u001b[0m\n\u001b[0;32m    543\u001b[0m         stacklevel\u001b[38;5;241m=\u001b[39m\u001b[38;5;241m3\u001b[39m,\n\u001b[0;32m    544\u001b[0m     )\n\u001b[0;32m    545\u001b[0m     kwargs[\u001b[38;5;124m\"\u001b[39m\u001b[38;5;124mcolumns\u001b[39m\u001b[38;5;124m\"\u001b[39m] \u001b[38;5;241m=\u001b[39m kwargs\u001b[38;5;241m.\u001b[39mpop(\u001b[38;5;124m\"\u001b[39m\u001b[38;5;124minclude_fields\u001b[39m\u001b[38;5;124m\"\u001b[39m)\n\u001b[1;32m--> 547\u001b[0m \u001b[38;5;28;01mreturn\u001b[39;00m pyogrio\u001b[38;5;241m.\u001b[39mread_dataframe(path_or_bytes, bbox\u001b[38;5;241m=\u001b[39mbbox, \u001b[38;5;241m*\u001b[39m\u001b[38;5;241m*\u001b[39mkwargs)\n",
      "File \u001b[1;32mc:\\Users\\ls2823\\AppData\\Local\\anaconda3\\Lib\\site-packages\\pyogrio\\geopandas.py:265\u001b[0m, in \u001b[0;36mread_dataframe\u001b[1;34m(path_or_buffer, layer, encoding, columns, read_geometry, force_2d, skip_features, max_features, where, bbox, mask, fids, sql, sql_dialect, fid_as_index, use_arrow, on_invalid, arrow_to_pandas_kwargs, **kwargs)\u001b[0m\n\u001b[0;32m    260\u001b[0m \u001b[38;5;28;01mif\u001b[39;00m \u001b[38;5;129;01mnot\u001b[39;00m use_arrow:\n\u001b[0;32m    261\u001b[0m     \u001b[38;5;66;03m# For arrow, datetimes are read as is.\u001b[39;00m\n\u001b[0;32m    262\u001b[0m     \u001b[38;5;66;03m# For numpy IO, datetimes are read as string values to preserve timezone info\u001b[39;00m\n\u001b[0;32m    263\u001b[0m     \u001b[38;5;66;03m# as numpy does not directly support timezones.\u001b[39;00m\n\u001b[0;32m    264\u001b[0m     kwargs[\u001b[38;5;124m\"\u001b[39m\u001b[38;5;124mdatetime_as_string\u001b[39m\u001b[38;5;124m\"\u001b[39m] \u001b[38;5;241m=\u001b[39m \u001b[38;5;28;01mTrue\u001b[39;00m\n\u001b[1;32m--> 265\u001b[0m result \u001b[38;5;241m=\u001b[39m read_func(\n\u001b[0;32m    266\u001b[0m     path_or_buffer,\n\u001b[0;32m    267\u001b[0m     layer\u001b[38;5;241m=\u001b[39mlayer,\n\u001b[0;32m    268\u001b[0m     encoding\u001b[38;5;241m=\u001b[39mencoding,\n\u001b[0;32m    269\u001b[0m     columns\u001b[38;5;241m=\u001b[39mcolumns,\n\u001b[0;32m    270\u001b[0m     read_geometry\u001b[38;5;241m=\u001b[39mread_geometry,\n\u001b[0;32m    271\u001b[0m     force_2d\u001b[38;5;241m=\u001b[39mgdal_force_2d,\n\u001b[0;32m    272\u001b[0m     skip_features\u001b[38;5;241m=\u001b[39mskip_features,\n\u001b[0;32m    273\u001b[0m     max_features\u001b[38;5;241m=\u001b[39mmax_features,\n\u001b[0;32m    274\u001b[0m     where\u001b[38;5;241m=\u001b[39mwhere,\n\u001b[0;32m    275\u001b[0m     bbox\u001b[38;5;241m=\u001b[39mbbox,\n\u001b[0;32m    276\u001b[0m     mask\u001b[38;5;241m=\u001b[39mmask,\n\u001b[0;32m    277\u001b[0m     fids\u001b[38;5;241m=\u001b[39mfids,\n\u001b[0;32m    278\u001b[0m     sql\u001b[38;5;241m=\u001b[39msql,\n\u001b[0;32m    279\u001b[0m     sql_dialect\u001b[38;5;241m=\u001b[39msql_dialect,\n\u001b[0;32m    280\u001b[0m     return_fids\u001b[38;5;241m=\u001b[39mfid_as_index,\n\u001b[0;32m    281\u001b[0m     \u001b[38;5;241m*\u001b[39m\u001b[38;5;241m*\u001b[39mkwargs,\n\u001b[0;32m    282\u001b[0m )\n\u001b[0;32m    284\u001b[0m \u001b[38;5;28;01mif\u001b[39;00m use_arrow:\n\u001b[0;32m    285\u001b[0m     meta, table \u001b[38;5;241m=\u001b[39m result\n",
      "File \u001b[1;32mc:\\Users\\ls2823\\AppData\\Local\\anaconda3\\Lib\\site-packages\\pyogrio\\raw.py:198\u001b[0m, in \u001b[0;36mread\u001b[1;34m(path_or_buffer, layer, encoding, columns, read_geometry, force_2d, skip_features, max_features, where, bbox, mask, fids, sql, sql_dialect, return_fids, datetime_as_string, **kwargs)\u001b[0m\n\u001b[0;32m     59\u001b[0m \u001b[38;5;250m\u001b[39m\u001b[38;5;124;03m\"\"\"Read OGR data source into numpy arrays.\u001b[39;00m\n\u001b[0;32m     60\u001b[0m \n\u001b[0;32m     61\u001b[0m \u001b[38;5;124;03mIMPORTANT: non-linear geometry types (e.g., MultiSurface) are converted\u001b[39;00m\n\u001b[1;32m   (...)\u001b[0m\n\u001b[0;32m    194\u001b[0m \n\u001b[0;32m    195\u001b[0m \u001b[38;5;124;03m\"\"\"\u001b[39;00m\n\u001b[0;32m    196\u001b[0m dataset_kwargs \u001b[38;5;241m=\u001b[39m _preprocess_options_key_value(kwargs) \u001b[38;5;28;01mif\u001b[39;00m kwargs \u001b[38;5;28;01melse\u001b[39;00m {}\n\u001b[1;32m--> 198\u001b[0m \u001b[38;5;28;01mreturn\u001b[39;00m ogr_read(\n\u001b[0;32m    199\u001b[0m     get_vsi_path_or_buffer(path_or_buffer),\n\u001b[0;32m    200\u001b[0m     layer\u001b[38;5;241m=\u001b[39mlayer,\n\u001b[0;32m    201\u001b[0m     encoding\u001b[38;5;241m=\u001b[39mencoding,\n\u001b[0;32m    202\u001b[0m     columns\u001b[38;5;241m=\u001b[39mcolumns,\n\u001b[0;32m    203\u001b[0m     read_geometry\u001b[38;5;241m=\u001b[39mread_geometry,\n\u001b[0;32m    204\u001b[0m     force_2d\u001b[38;5;241m=\u001b[39mforce_2d,\n\u001b[0;32m    205\u001b[0m     skip_features\u001b[38;5;241m=\u001b[39mskip_features,\n\u001b[0;32m    206\u001b[0m     max_features\u001b[38;5;241m=\u001b[39mmax_features \u001b[38;5;129;01mor\u001b[39;00m \u001b[38;5;241m0\u001b[39m,\n\u001b[0;32m    207\u001b[0m     where\u001b[38;5;241m=\u001b[39mwhere,\n\u001b[0;32m    208\u001b[0m     bbox\u001b[38;5;241m=\u001b[39mbbox,\n\u001b[0;32m    209\u001b[0m     mask\u001b[38;5;241m=\u001b[39m_mask_to_wkb(mask),\n\u001b[0;32m    210\u001b[0m     fids\u001b[38;5;241m=\u001b[39mfids,\n\u001b[0;32m    211\u001b[0m     sql\u001b[38;5;241m=\u001b[39msql,\n\u001b[0;32m    212\u001b[0m     sql_dialect\u001b[38;5;241m=\u001b[39msql_dialect,\n\u001b[0;32m    213\u001b[0m     return_fids\u001b[38;5;241m=\u001b[39mreturn_fids,\n\u001b[0;32m    214\u001b[0m     dataset_kwargs\u001b[38;5;241m=\u001b[39mdataset_kwargs,\n\u001b[0;32m    215\u001b[0m     datetime_as_string\u001b[38;5;241m=\u001b[39mdatetime_as_string,\n\u001b[0;32m    216\u001b[0m )\n",
      "File \u001b[1;32mpyogrio\\\\_io.pyx:1240\u001b[0m, in \u001b[0;36mpyogrio._io.ogr_read\u001b[1;34m()\u001b[0m\n",
      "File \u001b[1;32mpyogrio\\\\_io.pyx:220\u001b[0m, in \u001b[0;36mpyogrio._io.ogr_open\u001b[1;34m()\u001b[0m\n",
      "\u001b[1;31mDataSourceError\u001b[0m: Resources\\Scenario_wet_ALK_30\\hex_cost_components.geojson: No such file or directory"
     ]
    }
   ],
   "source": [
    "hydro_year = \"wet\" # wet dry atlite\n",
    "scenario_year = \"30\" # 25 30\n",
    "electrolyser_type = \"ALK\" # ALK PEM\n",
    "\n",
    "# gdf_data = gpd.read_file(f'Resources\\\\net_generation\\\\Scenario_{hydro_year}_{electrolyser_type}_{scenario_year}\\\\hex_cost_components.geojson')\n",
    "gdf_data = gpd.read_file(f'Resources\\\\Scenario_{hydro_year}_{electrolyser_type}_{scenario_year}\\\\hex_cost_components.geojson')\n",
    "gdf_data = gdf_data.drop_duplicates(subset=['h3_index'])\n",
    "\n",
    "generate_waterfall_chart(gdf_data, 'trucking')\n",
    "\n",
    "vmin = gdf_data[\"Vientiane trucking production cost\"].min() - 0.5\n",
    "plot_full_cost_map(\n",
    "    gdf_data, 'Vientiane', 'Vientiane trucking production cost', \n",
    "    #r'Resources\\Scenario_dry_ALK_25\\Visualisation\\visualisation_lowest_cost.png', \n",
    "    vmin=vmin, vmax=vmax\n",
    ")\n",
    "\n",
    "plot_cost_distribution(gdf_data, \n",
    "                       'Vientiane trucking production cost', \n",
    "                       'cost_distribution.png', 15)"
   ]
  },
  {
   "cell_type": "code",
   "execution_count": 35,
   "metadata": {},
   "outputs": [
    {
     "data": {
      "text/plain": [
       "3.895214108003592"
      ]
     },
     "execution_count": 35,
     "metadata": {},
     "output_type": "execute_result"
    }
   ],
   "source": [
    "gdf_data[\"Vientiane trucking production cost\"].min()"
   ]
  },
  {
   "cell_type": "markdown",
   "metadata": {},
   "source": [
    "### Plot all lines in one plot"
   ]
  },
  {
   "cell_type": "code",
   "execution_count": 36,
   "metadata": {},
   "outputs": [],
   "source": [
    "def ensure_directory_exists(path):\n",
    "    \"\"\"Create directory if it doesn't exist\"\"\"\n",
    "    if not os.path.exists(path):\n",
    "        os.makedirs(path)\n",
    "        \n",
    "def load_and_process_data(file_path, cost_column, max_cost, max_x):\n",
    "    \"\"\"\n",
    "    Load and process cost data from GeoJSON file.\n",
    "    \n",
    "    Args:\n",
    "        file_path (str): Path to GeoJSON file\n",
    "        cost_column (str): Name of cost column\n",
    "        max_cost (float): Maximum cost threshold\n",
    "        max_x (int): Maximum x-axis value\n",
    "        \n",
    "    Returns:\n",
    "        tuple: (x_values, costs, initial_value) or (None, None, None) if error\n",
    "    \"\"\"\n",
    "    try:\n",
    "        # Load data\n",
    "        gdf = gpd.read_file(file_path)\n",
    "        \n",
    "        # Filter and sort costs\n",
    "        mask = (gdf[cost_column] > 0) & (gdf[cost_column] <= max_cost)\n",
    "        costs = gdf[mask][cost_column].sort_values()\n",
    "        \n",
    "        # Create x values\n",
    "        x_values = np.arange(len(costs))\n",
    "        \n",
    "        # Get initial value\n",
    "        initial_value = costs.iloc[0] if len(costs) > 0 else None\n",
    "        \n",
    "        # Limit to max_x\n",
    "        mask = x_values <= max_x\n",
    "        x_values = x_values[mask]\n",
    "        costs = costs[mask]\n",
    "        \n",
    "        return x_values, costs, initial_value\n",
    "        \n",
    "    except Exception as e:\n",
    "        print(f\"Error loading data from {file_path}: {e}\")\n",
    "        return None, None, None"
   ]
  },
  {
   "cell_type": "code",
   "execution_count": 31,
   "metadata": {},
   "outputs": [],
   "source": [
    "def plot_combined_cost_distribution(max_cost=15, max_x=250):\n",
    "    \"\"\"Creates combined cost distribution plot for net and total generation\"\"\"\n",
    "    output_dir = os.path.join('Visualisation', 'comparisons')\n",
    "    ensure_directory_exists(output_dir)\n",
    "    \n",
    "    scenarios = [\n",
    "        ('wet', 'ALK', '25'), ('wet', 'ALK', '30'),\n",
    "        ('wet', 'PEM', '25'), ('wet', 'PEM', '30'),\n",
    "        ('dry', 'ALK', '25'), ('dry', 'ALK', '30'),\n",
    "        ('dry', 'PEM', '25'), ('dry', 'PEM', '30'),\n",
    "        ('atlite', 'ALK', '25'), ('atlite', 'PEM', '25'),\n",
    "        ('atlite', 'ALK', '30'), ('atlite', 'PEM', '30'),\n",
    "    ]\n",
    "    \n",
    "    colors = ['#1f77b4', '#ff7f0e', '#2ca02c', '#d62728', \n",
    "            '#9467bd', '#8c564b', '#e377c2', '#7f7f7f',\n",
    "            '#17becf', '#bcbd22', '#c49c94', '#f7b6d2']\n",
    "    \n",
    "    fig, ax = plt.subplots(figsize=(6, 6), facecolor='white', dpi=300)\n",
    "    ax.set_facecolor('white')\n",
    "    \n",
    "    net_lines = []\n",
    "    total_lines = []\n",
    "    \n",
    "    for (hydro_year, electrolyser_type, scenario_year), color in zip(scenarios, colors):\n",
    "        x_net, costs_net, initial_net = load_and_process_data(\n",
    "            f'Resources/net_generation/Scenario_{hydro_year}_{electrolyser_type}_{scenario_year}/hex_cost_components.geojson',\n",
    "            'Vientiane trucking production cost',\n",
    "            max_cost,\n",
    "            max_x\n",
    "        )\n",
    "        \n",
    "        x_total, costs_total, initial_total = load_and_process_data(\n",
    "            f'Resources/Scenario_{hydro_year}_{electrolyser_type}_{scenario_year}/hex_cost_components.geojson',\n",
    "            'Vientiane trucking production cost',\n",
    "            max_cost,\n",
    "            max_x\n",
    "        )\n",
    "        \n",
    "        label_base = f'{hydro_year.capitalize()} {electrolyser_type} 20{scenario_year}'\n",
    "        \n",
    "        if x_net is not None and initial_net is not None:\n",
    "            line = ax.plot(x_net, costs_net, color=color, linewidth=1.2, linestyle='--', \n",
    "                         label=label_base)[0]\n",
    "            ax.plot(0, initial_net, '^', color=color, markersize=3, \n",
    "                   markerfacecolor='none', markeredgewidth=2)\n",
    "            net_lines.append((label_base, line))\n",
    "            \n",
    "        if x_total is not None and initial_total is not None:\n",
    "            line = ax.plot(x_total, costs_total, color=color, linewidth=1.2,\n",
    "                         label=label_base)[0]\n",
    "            ax.plot(0, initial_total, 'o', color=color, markersize=5, \n",
    "                   markerfacecolor=color, markeredgewidth=0)\n",
    "            total_lines.append((label_base, line))\n",
    "    \n",
    "    # Create custom legend with headers\n",
    "    net_header = ax.plot([], [], '', color='none', label='Net Generation')[0]\n",
    "    total_header = ax.plot([], [], '', color='none', label='Total Generation')[0]\n",
    "    \n",
    "    net_lines.sort(key=lambda x: x[0])\n",
    "    total_lines.sort(key=lambda x: x[0])\n",
    "    \n",
    "    legend_elements = [net_header] + [line for _, line in net_lines] + \\\n",
    "                     [total_header] + [line for _, line in total_lines]\n",
    "    legend_labels = ['Net Generation'] + [label for label, _ in net_lines] + \\\n",
    "                   ['Total Generation'] + [label for label, _ in total_lines]\n",
    "    \n",
    "    # Create legend with custom font properties\n",
    "    legend = ax.legend(legend_elements, legend_labels, \n",
    "                      bbox_to_anchor=(1.05, 1), loc='upper left', \n",
    "                      fontsize=10) # \n",
    "    \n",
    "    # Set font properties for headers\n",
    "    header_font = {'size': 10, 'weight': 'bold'}\n",
    "    legend.get_texts()[0].set_fontproperties(FontProperties(**header_font))\n",
    "    legend.get_texts()[len(net_lines) + 1].set_fontproperties(FontProperties(**header_font))\n",
    "    \n",
    "    ax.set_xlabel('Cumulative Production Potential (kt)', fontsize=12)\n",
    "    ax.set_ylabel('LCOH (USD/kgH2)', fontsize=12)\n",
    "    ax.grid(True, linestyle='--', alpha=0.3)\n",
    "    ax.set_ylim(3, max_cost)\n",
    "    ax.set_xlim(-0.5, max_x)\n",
    "    \n",
    "    tick_spacing = 1\n",
    "    ticks = np.arange(0, max_x + tick_spacing, tick_spacing)\n",
    "    ax.set_xticks(ticks)\n",
    "    ax.set_xticklabels([str(int(x)) for x in ticks])\n",
    "    \n",
    "    plt.tight_layout()\n",
    "    save_path = os.path.join(output_dir, 'cost_distribution_net_vs_total.png')\n",
    "    fig.savefig(save_path, dpi=300, bbox_inches='tight', facecolor='white')\n",
    "    plt.close(fig)"
   ]
  },
  {
   "cell_type": "code",
   "execution_count": 37,
   "metadata": {},
   "outputs": [],
   "source": [
    "from matplotlib.font_manager import FontProperties\n",
    "plot_combined_cost_distribution(10.5,4)"
   ]
  },
  {
   "cell_type": "code",
   "execution_count": 46,
   "metadata": {},
   "outputs": [],
   "source": [
    "def plot_combined_cost_distribution_total(max_cost=15, max_x=250):\n",
    "    \"\"\"Creates combined cost distribution plot for net and total generation\"\"\"\n",
    "    output_dir = os.path.join('Visualisation', 'comparisons')\n",
    "    ensure_directory_exists(output_dir)\n",
    "    \n",
    "    scenarios = [\n",
    "        ('wet', 'ALK', '25'), ('wet', 'ALK', '30'),\n",
    "        ('wet', 'PEM', '25'), ('wet', 'PEM', '30'),\n",
    "        ('dry', 'ALK', '25'), ('dry', 'ALK', '30'),\n",
    "        ('dry', 'PEM', '25'), ('dry', 'PEM', '30'),\n",
    "        ('atlite', 'ALK', '25'), ('atlite', 'PEM', '25'),\n",
    "        ('atlite', 'ALK', '30'), ('atlite', 'PEM', '30'),\n",
    "    ]\n",
    "    \n",
    "    colors = ['#1f77b4', '#ff7f0e', '#2ca02c', '#d62728', \n",
    "            '#9467bd', '#8c564b', '#e377c2', '#7f7f7f',\n",
    "            '#17becf', '#bcbd22', '#c49c94', '#f7b6d2']\n",
    "    \n",
    "    fig, ax = plt.subplots(figsize=(4, 6), facecolor='white', dpi=300)\n",
    "    ax.set_facecolor('white')\n",
    "    \n",
    "    net_lines = []\n",
    "    total_lines = []\n",
    "    \n",
    "    for (hydro_year, electrolyser_type, scenario_year), color in zip(scenarios, colors):\n",
    "        x_net, costs_net, initial_net = load_and_process_data(\n",
    "            f'Resources/net_generation/Scenario_{hydro_year}_{electrolyser_type}_{scenario_year}/hex_cost_components.geojson',\n",
    "            'Vientiane trucking production cost',\n",
    "            max_cost,\n",
    "            max_x\n",
    "        )\n",
    "        \n",
    "        x_total, costs_total, initial_total = load_and_process_data(\n",
    "            f'Resources/Scenario_{hydro_year}_{electrolyser_type}_{scenario_year}/hex_cost_components.geojson',\n",
    "            'Vientiane trucking production cost',\n",
    "            max_cost,\n",
    "            max_x\n",
    "        )\n",
    "        \n",
    "        label_base = f'{hydro_year.capitalize()} {electrolyser_type} 20{scenario_year}'\n",
    "        \n",
    "        if x_net is not None and initial_net is not None:\n",
    "            line = ax.plot(x_net, costs_net, color=color, linewidth=1.2, linestyle='--', \n",
    "                         label=label_base)[0]\n",
    "            ax.plot(0, initial_net, '^', color=color, markersize=3, \n",
    "                   markerfacecolor='none', markeredgewidth=2)\n",
    "            net_lines.append((label_base, line))\n",
    "            \n",
    "        if x_total is not None and initial_total is not None:\n",
    "            line = ax.plot(x_total, costs_total, color=color, linewidth=1.2,\n",
    "                         label=label_base)[0]\n",
    "            ax.plot(0, initial_total, 'o', color=color, markersize=5, \n",
    "                   markerfacecolor=color, markeredgewidth=0)\n",
    "            total_lines.append((label_base, line))\n",
    "    \n",
    "    # # Create custom legend with headers\n",
    "    # net_header = ax.plot([], [], '', color='none', label='Net Generation')[0]\n",
    "    # total_header = ax.plot([], [], '', color='none', label='Total Generation')[0]\n",
    "    \n",
    "    # net_lines.sort(key=lambda x: x[0])\n",
    "    # total_lines.sort(key=lambda x: x[0])\n",
    "    \n",
    "    # legend_elements = [net_header] + [line for _, line in net_lines] + \\\n",
    "    #                  [total_header] + [line for _, line in total_lines]\n",
    "    # legend_labels = ['Net Generation'] + [label for label, _ in net_lines] + \\\n",
    "    #                ['Total Generation'] + [label for label, _ in total_lines]\n",
    "    \n",
    "    # # Create legend with custom font properties\n",
    "    # legend = ax.legend(legend_elements, legend_labels, \n",
    "    #                   bbox_to_anchor=(1.05, 1), loc='upper left', \n",
    "    #                   fontsize=10) # \n",
    "    \n",
    "    # # Set font properties for headers\n",
    "    # header_font = {'size': 10, 'weight': 'bold'}\n",
    "    # legend.get_texts()[0].set_fontproperties(FontProperties(**header_font))\n",
    "    # legend.get_texts()[len(net_lines) + 1].set_fontproperties(FontProperties(**header_font))\n",
    "    \n",
    "    ax.set_xlabel('Cumulative Production Potential (kt)', fontsize=12)\n",
    "    ax.set_ylabel('LCOH (USD/kgH2)', fontsize=12)\n",
    "    ax.grid(True, linestyle='--', alpha=0.3)\n",
    "    ax.set_ylim(3, max_cost)\n",
    "    ax.set_xlim(-0.5, max_x)\n",
    "    \n",
    "    tick_spacing = 100\n",
    "    ticks = np.arange(0, max_x + tick_spacing, tick_spacing)\n",
    "    ax.set_xticks(ticks)\n",
    "    ax.set_xticklabels([str(int(x)) for x in ticks])\n",
    "    \n",
    "    plt.tight_layout()\n",
    "    save_path = os.path.join(output_dir, 'cost_distribution_net_vs_total_full.png')\n",
    "    fig.savefig(save_path, dpi=300, bbox_inches='tight', facecolor='white')\n",
    "    plt.close(fig)"
   ]
  },
  {
   "cell_type": "code",
   "execution_count": 47,
   "metadata": {},
   "outputs": [],
   "source": [
    "plot_combined_cost_distribution_total(20,400)"
   ]
  },
  {
   "cell_type": "markdown",
   "metadata": {},
   "source": [
    "## Hexagon map"
   ]
  },
  {
   "cell_type": "code",
   "execution_count": 21,
   "metadata": {},
   "outputs": [],
   "source": [
    "# Function to plot the full cost map\n",
    "def plot_full_cost_map(hexagons, demand_center, cost_column, save_path, provinces=None, vmin=None, vmax=None):\n",
    "    \"\"\"\n",
    "    Plots a map showing production costs in USD/kg with province boundaries.\n",
    "    \n",
    "    Parameters:\n",
    "    - hexagons: GeoDataFrame containing the hexagons and data.\n",
    "    - demand_center: Name of the demand center (e.g., 'Vientiane').\n",
    "    - cost_column: The specific column for production cost (e.g., 'Vientiane trucking production cost').\n",
    "    - save_path: File path to save the PNG image.\n",
    "    - provinces: GeoDataFrame for province boundaries.\n",
    "    - vmin: Minimum value for the color scale (optional).\n",
    "    - vmax: Maximum value for the color scale (optional).\n",
    "    \"\"\"\n",
    "    crs = ccrs.PlateCarree()  # Example projection, adjust as needed\n",
    "    fig, ax = plt.subplots(figsize=(12, 8), subplot_kw={'projection': crs})\n",
    "    ax.set_axis_off()\n",
    "\n",
    "    hexagons_copy = hexagons.copy()\n",
    "\n",
    "    # Mask zero values\n",
    "    zero_mask = hexagons_copy[cost_column] == 0\n",
    "    hexagons_copy.loc[zero_mask, cost_column] = np.nan\n",
    "\n",
    "    # Plot the province boundaries if provided (this will be below the hexagons)\n",
    "    if provinces is not None:\n",
    "        provinces.to_crs(crs.proj4_init).plot(\n",
    "            ax=ax, color='none', edgecolor='black', linewidth=0.5)\n",
    "\n",
    "    # Plot the hexagons with production cost, applying the min/max thresholds\n",
    "    plot = hexagons_copy.to_crs(crs.proj4_init).plot(\n",
    "        ax=ax,\n",
    "        column=cost_column,\n",
    "        legend=True,\n",
    "        cmap='Greens_r',\n",
    "        legend_kwds={\n",
    "            'label': 'LCOH (USD/kgH2)',\n",
    "            'orientation': 'vertical',\n",
    "            'shrink': 0.5,\n",
    "            'pad': 0.05,\n",
    "            'anchor': (-1.1, 1.0)\n",
    "        },\n",
    "        missing_kwds={\n",
    "            \"color\": \"lightgrey\",\n",
    "            \"label\": \"No Data or Zero\",\n",
    "        },\n",
    "        edgecolor='black',\n",
    "        linewidth=0.2,\n",
    "        vmin=vmin,  # Set the minimum value for the color scale\n",
    "        vmax=vmax   # Set the maximum value for the color scale\n",
    "    )\n",
    "\n",
    "    # Adjust legend position to be on the right side and closer to the center\n",
    "    if plot.get_legend() is not None:\n",
    "        legend = plot.get_legend()\n",
    "        legend.set_bbox_to_anchor((1, 0.5))\n",
    "        legend.set_frame_on(True)\n",
    "\n",
    "    plt.show()\n",
    "\n",
    "    # Save the figure\n",
    "    # fig.savefig(save_path, dpi=300, bbox_inches='tight')\n",
    "    plt.close(fig)\n"
   ]
  },
  {
   "cell_type": "code",
   "execution_count": null,
   "metadata": {},
   "outputs": [
    {
     "data": {
      "image/png": "[encoded data removed]",
      "text/plain": [
       "<Figure size 1200x800 with 2 Axes>"
      ]
     },
     "metadata": {},
     "output_type": "display_data"
    }
   ],
   "source": [
    "gdf_data = gdf_data.drop_duplicates(subset=['h3_index'])\n",
    "vmin = gdf_data[\"Vientiane trucking production cost\"].min() - 0.5\n",
    "vmax = 10\n",
    "\n",
    "plot_full_cost_map(\n",
    "    gdf_data, 'Vientiane', 'Vientiane trucking production cost', \n",
    "    r'Resources\\Scenario_dry_ALK_25\\Visualisation\\visualisation_lowest_cost.png', \n",
    "    vmin=vmin, vmax=vmax\n",
    ")"
   ]
  },
  {
   "cell_type": "code",
   "execution_count": 294,
   "metadata": {},
   "outputs": [],
   "source": [
    "def plot_full_cost_map(hexagons, demand_center, cost_column, provinces=None, vmin=None, vmax=None):\n",
    "    \"\"\"Plots a map showing production costs in discrete color bins using Greens_r colormap\"\"\"\n",
    "    # Define bins and get colors from Greens_r\n",
    "    bins = [3, 4, 5, 6, 7, 8, 9, 10, float('inf')]\n",
    "    labels = ['3-4', '4-5', '5-6', '6-7', '7-8', '8-9', '9-10', '10+']\n",
    "    \n",
    "    # Get N colors from Greens_r and reverse them\n",
    "    greens = plt.cm.Greens_r(np.linspace(0.2, 0.8, len(labels)))\n",
    "    cmap = mcolors.ListedColormap(greens)\n",
    "    \n",
    "    crs = ccrs.PlateCarree()\n",
    "    fig, ax = plt.subplots(figsize=(12, 8), subplot_kw={'projection': crs}, dpi=300)\n",
    "    ax.set_axis_off()\n",
    "\n",
    "    hexagons_copy = hexagons.copy()\n",
    "    zero_mask = hexagons_copy[cost_column] == 0\n",
    "    hexagons_copy.loc[zero_mask, cost_column] = np.nan\n",
    "\n",
    "    # Create normalization for discrete bins\n",
    "    norm = mcolors.BoundaryNorm(bins, cmap.N)\n",
    "\n",
    "    if provinces is not None:\n",
    "        provinces.to_crs(crs.proj4_init).plot(\n",
    "            ax=ax, color='none', edgecolor='black', linewidth=0.5)\n",
    "\n",
    "    plot = hexagons_copy.to_crs(crs.proj4_init).plot(\n",
    "        ax=ax,\n",
    "        column=cost_column,\n",
    "        cmap=cmap,\n",
    "        norm=norm,\n",
    "        legend=False,\n",
    "        missing_kwds={\n",
    "            \"color\": \"lightgrey\",\n",
    "            \"label\": \"Not feasible\",\n",
    "        },\n",
    "        edgecolor='black',\n",
    "        linewidth=0.2\n",
    "    )\n",
    "    \n",
    "\n",
    "    # Create custom legend with Greens_r colors\n",
    "    legend_elements = [Patch(facecolor=greens[i], edgecolor='black', label=label)\n",
    "                      for i, label in enumerate(labels)]\n",
    "    legend_elements.append(Patch(facecolor='lightgrey', edgecolor='black', \n",
    "                               label='Not feasible'))\n",
    "\n",
    "    legend = ax.legend(handles=legend_elements,\n",
    "                      title='LCOH (USD/kgH2)',\n",
    "                      bbox_to_anchor=(0.7, 0.8),\n",
    "                      loc='center left',\n",
    "                      frameon=True,\n",
    "                      fontsize=10)\n",
    "    legend.get_title().set_fontsize(12)\n",
    "\n",
    "    plt.show()\n",
    "    # fig.savefig(save_path, dpi=300, bbox_inches='tight', facecolor='white')\n",
    "    plt.close(fig)"
   ]
  },
  {
   "cell_type": "code",
   "execution_count": 30,
   "metadata": {},
   "outputs": [
    {
     "ename": "TypeError",
     "evalue": "plot_full_cost_map() missing 1 required positional argument: 'save_path'",
     "output_type": "error",
     "traceback": [
      "\u001b[1;31m---------------------------------------------------------------------------\u001b[0m",
      "\u001b[1;31mTypeError\u001b[0m                                 Traceback (most recent call last)",
      "Cell \u001b[1;32mIn[30], line 7\u001b[0m\n\u001b[0;32m      4\u001b[0m vmin \u001b[38;5;241m=\u001b[39m gdf_data[\u001b[38;5;124m\"\u001b[39m\u001b[38;5;124mVientiane trucking production cost\u001b[39m\u001b[38;5;124m\"\u001b[39m]\u001b[38;5;241m.\u001b[39mmin() \u001b[38;5;241m-\u001b[39m \u001b[38;5;241m0.5\u001b[39m\n\u001b[0;32m      5\u001b[0m vmax \u001b[38;5;241m=\u001b[39m \u001b[38;5;241m15\u001b[39m\n\u001b[1;32m----> 7\u001b[0m plot_full_cost_map(\n\u001b[0;32m      8\u001b[0m     gdf_data, \u001b[38;5;124m'\u001b[39m\u001b[38;5;124mVientiane\u001b[39m\u001b[38;5;124m'\u001b[39m, \u001b[38;5;124m'\u001b[39m\u001b[38;5;124mVientiane pipeline production cost\u001b[39m\u001b[38;5;124m'\u001b[39m, \n\u001b[0;32m      9\u001b[0m     vmin\u001b[38;5;241m=\u001b[39mvmin, vmax\u001b[38;5;241m=\u001b[39mvmax\n\u001b[0;32m     10\u001b[0m )\n",
      "\u001b[1;31mTypeError\u001b[0m: plot_full_cost_map() missing 1 required positional argument: 'save_path'"
     ]
    }
   ],
   "source": [
    "from matplotlib.patches import Patch\n",
    "import matplotlib.colors as mcolors\n",
    "\n",
    "vmin = gdf_data[\"Vientiane trucking production cost\"].min() - 0.5\n",
    "vmax = 15\n",
    "\n",
    "plot_full_cost_map(\n",
    "    gdf_data, 'Vientiane', 'Vientiane pipeline production cost', \n",
    "    vmin=vmin, vmax=vmax\n",
    ")"
   ]
  },
  {
   "cell_type": "markdown",
   "metadata": {},
   "source": [
    "## Cost Curve"
   ]
  },
  {
   "cell_type": "code",
   "execution_count": 26,
   "metadata": {},
   "outputs": [
    {
     "ename": "TypeError",
     "evalue": "plot_cost_distribution() takes 3 positional arguments but 4 were given",
     "output_type": "error",
     "traceback": [
      "\u001b[1;31m---------------------------------------------------------------------------\u001b[0m",
      "\u001b[1;31mTypeError\u001b[0m                                 Traceback (most recent call last)",
      "Cell \u001b[1;32mIn[26], line 32\u001b[0m\n\u001b[0;32m     29\u001b[0m     \u001b[38;5;66;03m# fig.savefig(save_path, dpi=300, bbox_inches='tight')\u001b[39;00m\n\u001b[0;32m     30\u001b[0m     plt\u001b[38;5;241m.\u001b[39mclose(fig)\n\u001b[1;32m---> 32\u001b[0m plot_cost_distribution(gdf_data, \u001b[38;5;124m'\u001b[39m\u001b[38;5;124mVientiane trucking production cost\u001b[39m\u001b[38;5;124m'\u001b[39m, \u001b[38;5;124m'\u001b[39m\u001b[38;5;124mcost_distribution.png\u001b[39m\u001b[38;5;124m'\u001b[39m, \u001b[38;5;241m10\u001b[39m)\n",
      "\u001b[1;31mTypeError\u001b[0m: plot_cost_distribution() takes 3 positional arguments but 4 were given"
     ]
    }
   ],
   "source": [
    "def plot_cost_distribution(hexagons, cost_column, save_path):\n",
    "    \"\"\"Creates clean line plot of production costs vs cumulative potential\"\"\"\n",
    "    # Prep data\n",
    "    costs = hexagons[hexagons[cost_column] > 0][cost_column].sort_values()\n",
    "    x_values = np.arange(len(costs)) * 1000\n",
    "    \n",
    "    # Create plot\n",
    "    fig, ax = plt.subplots(figsize=(10, 6))\n",
    "    \n",
    "    # Plot smooth line\n",
    "    ax.plot(x_values, costs, color='#2ecc71', linewidth=2)\n",
    "    \n",
    "    # Fill area under curve\n",
    "    ax.fill_between(x_values, costs, alpha=0.2, color='#2ecc71')\n",
    "    \n",
    "    # Styling\n",
    "    ax.set_xlabel('Production Potential (kt)', fontsize=10)\n",
    "    ax.set_ylabel('LCOH (USD/kgH2)', fontsize=10)\n",
    "    ax.grid(True, linestyle='--', alpha=0.3)\n",
    "    \n",
    "    # Minimal x-ticks every 10kt\n",
    "    step = 10000\n",
    "    ax.set_xticks(np.arange(0, len(costs) * 1000, step))\n",
    "    ax.set_xticklabels([f'{int(x/1000)}k' for x in ax.get_xticks()])\n",
    "    \n",
    "    plt.tight_layout()\n",
    "    plt.show()\n",
    "    \n",
    "    # fig.savefig(save_path, dpi=300, bbox_inches='tight')\n",
    "    plt.close(fig)\n",
    "    \n",
    "plot_cost_distribution(gdf_data, 'Vientiane trucking production cost', 'cost_distribution.png', 10)"
   ]
  },
  {
   "cell_type": "markdown",
   "metadata": {},
   "source": [
    "## Plot all lines in one Plot"
   ]
  },
  {
   "cell_type": "code",
   "execution_count": 7,
   "metadata": {},
   "outputs": [],
   "source": [
    "def ensure_directory_exists(path):\n",
    "    \"\"\"Create directory if it doesn't exist\"\"\"\n",
    "    if not os.path.exists(path):\n",
    "        os.makedirs(path)\n",
    "        \n",
    "def load_and_process_data(file_path, cost_column, max_cost, max_x):\n",
    "    \"\"\"Helper function to safely load and process data\"\"\"\n",
    "    try:\n",
    "        gdf = gpd.read_file(file_path)\n",
    "        mask = (gdf[cost_column] > 0) & (gdf[cost_column] <= max_cost)\n",
    "        costs = gdf[mask][cost_column].sort_values()\n",
    "        x_values = np.arange(len(costs))\n",
    "        mask = x_values <= max_x\n",
    "        return x_values[mask], costs[mask]\n",
    "    except Exception:\n",
    "        return None, None\n"
   ]
  },
  {
   "cell_type": "code",
   "execution_count": 28,
   "metadata": {},
   "outputs": [],
   "source": [
    "def plot_combined_cost_distribution(max_cost=15, max_x=250):\n",
    "    \"\"\"Creates combined cost distribution plot for net and total generation\"\"\"\n",
    "    output_dir = os.path.join('Visualisation', 'comparisons')\n",
    "    ensure_directory_exists(output_dir)\n",
    "    \n",
    "    scenarios = [\n",
    "        ('wet', 'ALK', '25'), ('wet', 'ALK', '30'),\n",
    "        ('wet', 'PEM', '25'), ('wet', 'PEM', '30'),\n",
    "        ('dry', 'ALK', '25'), ('dry', 'ALK', '30'),\n",
    "        ('dry', 'PEM', '25'), ('dry', 'PEM', '30'),\n",
    "        ('atlite', 'ALK', '25'), ('atlite', 'PEM', '25'),\n",
    "        ('atlite', 'ALK', '30'), ('atlite', 'PEM', '30')\n",
    "    ]\n",
    "    \n",
    "    colors = ['#1f77b4', '#ff7f0e', '#2ca02c', '#d62728', \n",
    "              '#9467bd', '#8c564b', '#e377c2', '#7f7f7f',\n",
    "              '#17becf', '#bcbd22']\n",
    "    \n",
    "    fig, ax = plt.subplots(figsize=(10, 5), facecolor='white', dpi=300)\n",
    "    ax.set_facecolor('white')\n",
    "    \n",
    "    net_lines = []\n",
    "    total_lines = []\n",
    "    \n",
    "    for (hydro_year, electrolyser_type, scenario_year), color in zip(scenarios, colors):\n",
    "        x_net, costs_net, initial_net = load_and_process_data(\n",
    "            f'Resources/net_generation/Scenario_{hydro_year}_{electrolyser_type}_{scenario_year}/hex_cost_components.geojson',\n",
    "            'Vientiane trucking production cost',\n",
    "            max_cost,\n",
    "            max_x\n",
    "        )\n",
    "        \n",
    "        x_total, costs_total, initial_total = load_and_process_data(\n",
    "            f'Resources/Scenario_{hydro_year}_{electrolyser_type}_{scenario_year}/hex_cost_components.geojson',\n",
    "            'Vientiane trucking production cost',\n",
    "            max_cost,\n",
    "            max_x\n",
    "        )\n",
    "        \n",
    "        label_base = f'{hydro_year.capitalize()} {electrolyser_type} 20{scenario_year}'\n",
    "        \n",
    "        if x_net is not None and initial_net is not None:\n",
    "            line = ax.plot(x_net, costs_net, color=color, linewidth=1.2, linestyle='--', \n",
    "                         label=label_base)[0]\n",
    "            ax.plot(0, initial_net, '^', color=color, markersize=3, \n",
    "                   markerfacecolor='none', markeredgewidth=2)\n",
    "            net_lines.append((label_base, line))\n",
    "            \n",
    "        if x_total is not None and initial_total is not None:\n",
    "            line = ax.plot(x_total, costs_total, color=color, linewidth=1.2,\n",
    "                         label=label_base)[0]\n",
    "            ax.plot(0, initial_total, 'o', color=color, markersize=5, \n",
    "                   markerfacecolor=color, markeredgewidth=0)\n",
    "            total_lines.append((label_base, line))\n",
    "    \n",
    "    # Create custom legend with headers\n",
    "    net_header = ax.plot([], [], '', color='none', label='Net Generation')[0]\n",
    "    total_header = ax.plot([], [], '', color='none', label='Total Generation')[0]\n",
    "    \n",
    "    net_lines.sort(key=lambda x: x[0])\n",
    "    total_lines.sort(key=lambda x: x[0])\n",
    "    \n",
    "    legend_elements = [net_header] + [line for _, line in net_lines] + \\\n",
    "                     [total_header] + [line for _, line in total_lines]\n",
    "    legend_labels = ['Net Generation'] + [label for label, _ in net_lines] + \\\n",
    "                   ['Total Generation'] + [label for label, _ in total_lines]\n",
    "    \n",
    "    # Create legend with custom font properties\n",
    "    legend = ax.legend(legend_elements, legend_labels, \n",
    "                      bbox_to_anchor=(1.05, 1), loc='upper left', \n",
    "                      fontsize=10) # \n",
    "    \n",
    "    # Set font properties for headers\n",
    "    header_font = {'size': 10, 'weight': 'bold'}\n",
    "    legend.get_texts()[0].set_fontproperties(FontProperties(**header_font))\n",
    "    legend.get_texts()[len(net_lines) + 1].set_fontproperties(FontProperties(**header_font))\n",
    "    \n",
    "    ax.set_xlabel('Cumulative Production Potential (kt)', fontsize=12)\n",
    "    ax.set_ylabel('LCOH (USD/kgH2)', fontsize=12)\n",
    "    ax.grid(True, linestyle='--', alpha=0.3)\n",
    "    ax.set_ylim(3, max_cost)\n",
    "    ax.set_xlim(-0.5, max_x)\n",
    "    \n",
    "    tick_spacing = 50\n",
    "    ticks = np.arange(0, max_x + tick_spacing, tick_spacing)\n",
    "    ax.set_xticks(ticks)\n",
    "    ax.set_xticklabels([str(int(x)+1) for x in ticks])\n",
    "    \n",
    "    plt.tight_layout()\n",
    "    save_path = os.path.join(output_dir, 'cost_distribution_net_vs_total.png')\n",
    "    fig.savefig(save_path, dpi=300, bbox_inches='tight', facecolor='white')\n",
    "    plt.close(fig)"
   ]
  },
  {
   "cell_type": "code",
   "execution_count": 8,
   "metadata": {},
   "outputs": [
    {
     "ename": "ValueError",
     "evalue": "not enough values to unpack (expected 3, got 2)",
     "output_type": "error",
     "traceback": [
      "\u001b[1;31m---------------------------------------------------------------------------\u001b[0m",
      "\u001b[1;31mValueError\u001b[0m                                Traceback (most recent call last)",
      "Cell \u001b[1;32mIn[8], line 1\u001b[0m\n\u001b[1;32m----> 1\u001b[0m plot_combined_cost_distribution(\u001b[38;5;241m15\u001b[39m,\u001b[38;5;241m300\u001b[39m)\n",
      "Cell \u001b[1;32mIn[1], line 26\u001b[0m, in \u001b[0;36mplot_combined_cost_distribution\u001b[1;34m(max_cost, max_x)\u001b[0m\n\u001b[0;32m     23\u001b[0m total_lines \u001b[38;5;241m=\u001b[39m []\n\u001b[0;32m     25\u001b[0m \u001b[38;5;28;01mfor\u001b[39;00m (hydro_year, electrolyser_type, scenario_year), color \u001b[38;5;129;01min\u001b[39;00m \u001b[38;5;28mzip\u001b[39m(scenarios, colors):\n\u001b[1;32m---> 26\u001b[0m     x_net, costs_net, initial_net \u001b[38;5;241m=\u001b[39m load_and_process_data(\n\u001b[0;32m     27\u001b[0m         \u001b[38;5;124mf\u001b[39m\u001b[38;5;124m'\u001b[39m\u001b[38;5;124mResources/net_generation/Scenario_\u001b[39m\u001b[38;5;132;01m{\u001b[39;00mhydro_year\u001b[38;5;132;01m}\u001b[39;00m\u001b[38;5;124m_\u001b[39m\u001b[38;5;132;01m{\u001b[39;00melectrolyser_type\u001b[38;5;132;01m}\u001b[39;00m\u001b[38;5;124m_\u001b[39m\u001b[38;5;132;01m{\u001b[39;00mscenario_year\u001b[38;5;132;01m}\u001b[39;00m\u001b[38;5;124m/hex_cost_components.geojson\u001b[39m\u001b[38;5;124m'\u001b[39m,\n\u001b[0;32m     28\u001b[0m         \u001b[38;5;124m'\u001b[39m\u001b[38;5;124mVientiane trucking production cost\u001b[39m\u001b[38;5;124m'\u001b[39m,\n\u001b[0;32m     29\u001b[0m         max_cost,\n\u001b[0;32m     30\u001b[0m         max_x\n\u001b[0;32m     31\u001b[0m     )\n\u001b[0;32m     33\u001b[0m     x_total, costs_total, initial_total \u001b[38;5;241m=\u001b[39m load_and_process_data(\n\u001b[0;32m     34\u001b[0m         \u001b[38;5;124mf\u001b[39m\u001b[38;5;124m'\u001b[39m\u001b[38;5;124mResources/Scenario_\u001b[39m\u001b[38;5;132;01m{\u001b[39;00mhydro_year\u001b[38;5;132;01m}\u001b[39;00m\u001b[38;5;124m_\u001b[39m\u001b[38;5;132;01m{\u001b[39;00melectrolyser_type\u001b[38;5;132;01m}\u001b[39;00m\u001b[38;5;124m_\u001b[39m\u001b[38;5;132;01m{\u001b[39;00mscenario_year\u001b[38;5;132;01m}\u001b[39;00m\u001b[38;5;124m/hex_cost_components.geojson\u001b[39m\u001b[38;5;124m'\u001b[39m,\n\u001b[0;32m     35\u001b[0m         \u001b[38;5;124m'\u001b[39m\u001b[38;5;124mVientiane trucking production cost\u001b[39m\u001b[38;5;124m'\u001b[39m,\n\u001b[0;32m     36\u001b[0m         max_cost,\n\u001b[0;32m     37\u001b[0m         max_x\n\u001b[0;32m     38\u001b[0m     )\n\u001b[0;32m     40\u001b[0m     label_base \u001b[38;5;241m=\u001b[39m \u001b[38;5;124mf\u001b[39m\u001b[38;5;124m'\u001b[39m\u001b[38;5;132;01m{\u001b[39;00mhydro_year\u001b[38;5;241m.\u001b[39mcapitalize()\u001b[38;5;132;01m}\u001b[39;00m\u001b[38;5;124m \u001b[39m\u001b[38;5;132;01m{\u001b[39;00melectrolyser_type\u001b[38;5;132;01m}\u001b[39;00m\u001b[38;5;124m 20\u001b[39m\u001b[38;5;132;01m{\u001b[39;00mscenario_year\u001b[38;5;132;01m}\u001b[39;00m\u001b[38;5;124m'\u001b[39m\n",
      "\u001b[1;31mValueError\u001b[0m: not enough values to unpack (expected 3, got 2)"
     ]
    },
    {
     "data": {
      "image/png": "[encoded data removed]",
      "text/plain": [
       "<Figure size 3000x1800 with 1 Axes>"
      ]
     },
     "metadata": {},
     "output_type": "display_data"
    }
   ],
   "source": [
    "plot_combined_cost_distribution(15,300)"
   ]
  },
  {
   "cell_type": "markdown",
   "metadata": {},
   "source": [
    "## Waterfall Chart"
   ]
  },
  {
   "cell_type": "code",
   "execution_count": 12,
   "metadata": {},
   "outputs": [],
   "source": [
    "test= 'Vientiane LCOH - trucking battery costs portion'"
   ]
  },
  {
   "cell_type": "code",
   "execution_count": 16,
   "metadata": {},
   "outputs": [
    {
     "data": {
      "text/plain": [
       "'battery'"
      ]
     },
     "execution_count": 16,
     "metadata": {},
     "output_type": "execute_result"
    }
   ],
   "source": [
    "test.split(\" - \")[1].split(\" \")[1]"
   ]
  },
  {
   "cell_type": "code",
   "execution_count": 13,
   "metadata": {},
   "outputs": [
    {
     "data": {
      "text/plain": [
       "['trucking battery costs', 'Total']"
      ]
     },
     "execution_count": 13,
     "metadata": {},
     "output_type": "execute_result"
    }
   ],
   "source": [
    "label = [test.split(\" - \")[1].replace(f' trucking', '').replace(' portion', '')] + [\"Total\"]\n",
    "\n",
    "label"
   ]
  },
  {
   "cell_type": "code",
   "execution_count": 160,
   "metadata": {},
   "outputs": [],
   "source": [
    "# def generate_waterfall_chart(gdf, transport_type):\n",
    "#     # Find the min-cost hexagon in the pipeline or trucking data\n",
    "#     min_hexagon = gdf.loc[gdf[f'Vientiane {transport_type} production cost'].idxmin()]\n",
    "\n",
    "#     # Define the columns for the cost breakdown\n",
    "#     columns = [\n",
    "#         f'Vientiane LCOH - {transport_type} battery costs portion',\n",
    "#         f'Vientiane LCOH - {transport_type} electrolyzer portion',\n",
    "#         f'Vientiane LCOH - {transport_type} H2 storage portion',\n",
    "#         f'Vientiane LCOH - {transport_type} wind portion',\n",
    "#         f'Vientiane LCOH - {transport_type} solar portion',\n",
    "#         f'Vientiane LCOH - {transport_type} hydro portion'\n",
    "#     ]\n",
    "\n",
    "#     # Extract the actual cost values from the selected hexagon\n",
    "#     cost_values = {col: min_hexagon[col] for col in columns}\n",
    "\n",
    "#     # Calculate total LCOH cost for the transport method\n",
    "#     total_cost = min_hexagon[f'Vientiane {transport_type} production cost']\n",
    "\n",
    "#     # Create lists for the waterfall chart\n",
    "#     measures = [\"relative\"] * len(columns) + [\"total\"]\n",
    "#     labels = [col.split(\" - \")[1].replace(f' {transport_type}', '').replace(' portion', '') for col in columns] + [\"Total\"]\n",
    "#     values = list(cost_values.values()) + [0]  # 0 for total, as it will be auto-calculated\n",
    "#     texts = [f\"{value:.2f}\" for value in cost_values.values()] + [f\"{total_cost:.2f}\"]\n",
    "\n",
    "#     # Create the waterfall chart with improved aesthetics\n",
    "#     fig = go.Figure(go.Waterfall(\n",
    "#         name=\"LCOH Cost Breakdown\",  # Removed transport type from title\n",
    "#         orientation=\"v\",\n",
    "#         measure=measures,\n",
    "#         x=labels,\n",
    "#         y=values,\n",
    "#         text=texts,\n",
    "#         connector={\"line\": {\"color\": \"rgb(63, 63, 63)\", \"dash\": \"dot\"}},\n",
    "#         increasing={\"marker\": {\"color\": \"#0000ff\"}},  # Blue color for increasing\n",
    "#         decreasing={\"marker\": {\"color\": \"#ff7f0e\"}},  # Orange color for decreasing\n",
    "#         totals={\"marker\": {\"color\": \"#000000\"}}  # Black color for total\n",
    "#     ))\n",
    "\n",
    "#     # Update layout to increase font sizes and improve the overall look\n",
    "#     fig.update_layout(\n",
    "#         # title=f\"{transport_type.capitalize()} LCOH Cost Breakdown\",\n",
    "#         xaxis_title=\"Cost Portions\",\n",
    "#         yaxis_title=\"LCOH [USD/kgH2]\",\n",
    "#         xaxis=dict(\n",
    "#             tickfont=dict(color='black', size=20),  # Increased x-axis tick labels font size\n",
    "#             titlefont=dict(color='black', size=22),  # Increased x-axis title font size\n",
    "#         ),\n",
    "#         yaxis=dict(\n",
    "#             tickfont=dict(color='black', size=20),  # Increased y-axis tick labels font size\n",
    "#             titlefont=dict(color='black', size=22),  # Increased y-axis title font size\n",
    "#             showgrid=True,\n",
    "#             gridcolor='lightgrey'  # Light grey grid lines for y-axis\n",
    "#         ),\n",
    "#         plot_bgcolor='white',  # Set plot background color to white\n",
    "#         showlegend=False,\n",
    "#         width=900,\n",
    "#         height=600,\n",
    "#         font=dict(size=18),  # General font size increase\n",
    "#         margin=dict(l=50, r=50, t=100, b=50)\n",
    "#     )\n",
    "\n",
    "#     # Show the plot\n",
    "#     fig.show()"
   ]
  },
  {
   "cell_type": "code",
   "execution_count": 169,
   "metadata": {},
   "outputs": [],
   "source": [
    "def generate_waterfall_chart(gdf, transport_type):\n",
    "    # Find the min-cost hexagon in the pipeline or trucking data\n",
    "    min_hexagon = gdf.loc[gdf[f'Vientiane {transport_type} production cost'].idxmin()]\n",
    "\n",
    "    # Define the columns and their corresponding custom labels\n",
    "    columns_and_labels = [\n",
    "        (f'Vientiane LCOH - {transport_type} battery costs portion', 'Battery'),\n",
    "        (f'Vientiane LCOH - {transport_type} electrolyzer portion', 'Electrolyzer'),\n",
    "        (f'Vientiane LCOH - {transport_type} H2 storage portion', 'H2 Storage'),\n",
    "        (f'Vientiane LCOH - {transport_type} wind portion', 'Wind'),\n",
    "        (f'Vientiane LCOH - {transport_type} solar portion', 'Solar'),\n",
    "        (f'Vientiane LCOH - {transport_type} hydro portion', 'Hydro')\n",
    "    ]\n",
    "\n",
    "    # Extract columns and labels\n",
    "    columns = [item[0] for item in columns_and_labels]\n",
    "    labels = [item[1] for item in columns_and_labels] + [\"Total\"]\n",
    "\n",
    "    # Extract the actual cost values from the selected hexagon\n",
    "    cost_values = {col: min_hexagon[col] for col in columns}\n",
    "\n",
    "    # Calculate total LCOH cost for the transport method\n",
    "    total_cost = min_hexagon[f'Vientiane {transport_type} production cost']\n",
    "\n",
    "    # Create lists for the waterfall chart\n",
    "    measures = [\"relative\"] * len(columns) + [\"total\"]\n",
    "    values = list(cost_values.values()) + [0]  # 0 for total, as it will be auto-calculated\n",
    "    texts = [f\"{value:.2f}\" for value in cost_values.values()] + [f\"{total_cost:.2f}\"]\n",
    "\n",
    "    # Rest of the function remains the same\n",
    "    fig = go.Figure(go.Waterfall(\n",
    "        # name=\"LCOH Cost Breakdown\",\n",
    "        orientation=\"v\",\n",
    "        measure=measures,\n",
    "        x=labels,\n",
    "        y=values,\n",
    "        text=texts,\n",
    "        connector={\"line\": {\"color\": \"rgb(63, 63, 63)\", \"dash\": \"dot\"}},\n",
    "        increasing={\"marker\": {\"color\": \"#0000ff\"}},\n",
    "        decreasing={\"marker\": {\"color\": \"#ff7f0e\"}},\n",
    "        totals={\"marker\": {\"color\": \"#000000\"}}\n",
    "    ))\n",
    "\n",
    "    fig.update_layout(\n",
    "        xaxis_title=\"Cost Portions\",\n",
    "        yaxis_title=\"LCOH [USD/kgH2]\",\n",
    "        xaxis=dict(\n",
    "            tickfont=dict(color='black', size=20),\n",
    "            titlefont=dict(color='black', size=22),\n",
    "        ),\n",
    "        yaxis=dict(\n",
    "            tickfont=dict(color='black', size=20),\n",
    "            titlefont=dict(color='black', size=22),\n",
    "            showgrid=True,\n",
    "            gridcolor='lightgrey'\n",
    "        ),\n",
    "        plot_bgcolor='white',\n",
    "        showlegend=False,\n",
    "        width=550,\n",
    "        height=500,\n",
    "        font=dict(size=18),\n",
    "        margin=dict(l=50, r=50, t=100, b=50)\n",
    "    )\n",
    "\n",
    "    fig.show()"
   ]
  },
  {
   "cell_type": "code",
   "execution_count": 170,
   "metadata": {},
   "outputs": [
    {
     "data": {
      "application/vnd.plotly.v1+json": {
       "config": {
        "plotlyServerURL": "https://plot.ly"
       },
       "data": [
        {
         "connector": {
          "line": {
           "color": "rgb(63, 63, 63)",
           "dash": "dot"
          }
         },
         "decreasing": {
          "marker": {
           "color": "#ff7f0e"
          }
         },
         "increasing": {
          "marker": {
           "color": "#0000ff"
          }
         },
         "measure": [
          "relative",
          "relative",
          "relative",
          "relative",
          "relative",
          "relative",
          "total"
         ],
         "orientation": "v",
         "text": [
          "0.82",
          "1.02",
          "0.38",
          "0.93",
          "4.76",
          "0.00",
          "7.91"
         ],
         "totals": {
          "marker": {
           "color": "#000000"
          }
         },
         "type": "waterfall",
         "x": [
          "Battery",
          "Electrolyzer",
          "H2 Storage",
          "Wind",
          "Solar",
          "Hydro",
          "Total"
         ],
         "y": [
          0.8175737487336953,
          1.0159828865438711,
          0.38151315090045773,
          0.9309106145058077,
          4.761767758902062,
          0,
          0
         ]
        }
       ],
       "layout": {
        "font": {
         "size": 18
        },
        "height": 500,
        "margin": {
         "b": 50,
         "l": 50,
         "r": 50,
         "t": 100
        },
        "plot_bgcolor": "white",
        "showlegend": false,
        "template": {
         "data": {
          "bar": [
           {
            "error_x": {
             "color": "#2a3f5f"
            },
            "error_y": {
             "color": "#2a3f5f"
            },
            "marker": {
             "line": {
              "color": "#E5ECF6",
              "width": 0.5
             },
             "pattern": {
              "fillmode": "overlay",
              "size": 10,
              "solidity": 0.2
             }
            },
            "type": "bar"
           }
          ],
          "barpolar": [
           {
            "marker": {
             "line": {
              "color": "#E5ECF6",
              "width": 0.5
             },
             "pattern": {
              "fillmode": "overlay",
              "size": 10,
              "solidity": 0.2
             }
            },
            "type": "barpolar"
           }
          ],
          "carpet": [
           {
            "aaxis": {
             "endlinecolor": "#2a3f5f",
             "gridcolor": "white",
             "linecolor": "white",
             "minorgridcolor": "white",
             "startlinecolor": "#2a3f5f"
            },
            "baxis": {
             "endlinecolor": "#2a3f5f",
             "gridcolor": "white",
             "linecolor": "white",
             "minorgridcolor": "white",
             "startlinecolor": "#2a3f5f"
            },
            "type": "carpet"
           }
          ],
          "choropleth": [
           {
            "colorbar": {
             "outlinewidth": 0,
             "ticks": ""
            },
            "type": "choropleth"
           }
          ],
          "contour": [
           {
            "colorbar": {
             "outlinewidth": 0,
             "ticks": ""
            },
            "colorscale": [
             [
              0,
              "#0d0887"
             ],
             [
              0.1111111111111111,
              "#46039f"
             ],
             [
              0.2222222222222222,
              "#7201a8"
             ],
             [
              0.3333333333333333,
              "#9c179e"
             ],
             [
              0.4444444444444444,
              "#bd3786"
             ],
             [
              0.5555555555555556,
              "#d8576b"
             ],
             [
              0.6666666666666666,
              "#ed7953"
             ],
             [
              0.7777777777777778,
              "#fb9f3a"
             ],
             [
              0.8888888888888888,
              "#fdca26"
             ],
             [
              1,
              "#f0f921"
             ]
            ],
            "type": "contour"
           }
          ],
          "contourcarpet": [
           {
            "colorbar": {
             "outlinewidth": 0,
             "ticks": ""
            },
            "type": "contourcarpet"
           }
          ],
          "heatmap": [
           {
            "colorbar": {
             "outlinewidth": 0,
             "ticks": ""
            },
            "colorscale": [
             [
              0,
              "#0d0887"
             ],
             [
              0.1111111111111111,
              "#46039f"
             ],
             [
              0.2222222222222222,
              "#7201a8"
             ],
             [
              0.3333333333333333,
              "#9c179e"
             ],
             [
              0.4444444444444444,
              "#bd3786"
             ],
             [
              0.5555555555555556,
              "#d8576b"
             ],
             [
              0.6666666666666666,
              "#ed7953"
             ],
             [
              0.7777777777777778,
              "#fb9f3a"
             ],
             [
              0.8888888888888888,
              "#fdca26"
             ],
             [
              1,
              "#f0f921"
             ]
            ],
            "type": "heatmap"
           }
          ],
          "heatmapgl": [
           {
            "colorbar": {
             "outlinewidth": 0,
             "ticks": ""
            },
            "colorscale": [
             [
              0,
              "#0d0887"
             ],
             [
              0.1111111111111111,
              "#46039f"
             ],
             [
              0.2222222222222222,
              "#7201a8"
             ],
             [
              0.3333333333333333,
              "#9c179e"
             ],
             [
              0.4444444444444444,
              "#bd3786"
             ],
             [
              0.5555555555555556,
              "#d8576b"
             ],
             [
              0.6666666666666666,
              "#ed7953"
             ],
             [
              0.7777777777777778,
              "#fb9f3a"
             ],
             [
              0.8888888888888888,
              "#fdca26"
             ],
             [
              1,
              "#f0f921"
             ]
            ],
            "type": "heatmapgl"
           }
          ],
          "histogram": [
           {
            "marker": {
             "pattern": {
              "fillmode": "overlay",
              "size": 10,
              "solidity": 0.2
             }
            },
            "type": "histogram"
           }
          ],
          "histogram2d": [
           {
            "colorbar": {
             "outlinewidth": 0,
             "ticks": ""
            },
            "colorscale": [
             [
              0,
              "#0d0887"
             ],
             [
              0.1111111111111111,
              "#46039f"
             ],
             [
              0.2222222222222222,
              "#7201a8"
             ],
             [
              0.3333333333333333,
              "#9c179e"
             ],
             [
              0.4444444444444444,
              "#bd3786"
             ],
             [
              0.5555555555555556,
              "#d8576b"
             ],
             [
              0.6666666666666666,
              "#ed7953"
             ],
             [
              0.7777777777777778,
              "#fb9f3a"
             ],
             [
              0.8888888888888888,
              "#fdca26"
             ],
             [
              1,
              "#f0f921"
             ]
            ],
            "type": "histogram2d"
           }
          ],
          "histogram2dcontour": [
           {
            "colorbar": {
             "outlinewidth": 0,
             "ticks": ""
            },
            "colorscale": [
             [
              0,
              "#0d0887"
             ],
             [
              0.1111111111111111,
              "#46039f"
             ],
             [
              0.2222222222222222,
              "#7201a8"
             ],
             [
              0.3333333333333333,
              "#9c179e"
             ],
             [
              0.4444444444444444,
              "#bd3786"
             ],
             [
              0.5555555555555556,
              "#d8576b"
             ],
             [
              0.6666666666666666,
              "#ed7953"
             ],
             [
              0.7777777777777778,
              "#fb9f3a"
             ],
             [
              0.8888888888888888,
              "#fdca26"
             ],
             [
              1,
              "#f0f921"
             ]
            ],
            "type": "histogram2dcontour"
           }
          ],
          "mesh3d": [
           {
            "colorbar": {
             "outlinewidth": 0,
             "ticks": ""
            },
            "type": "mesh3d"
           }
          ],
          "parcoords": [
           {
            "line": {
             "colorbar": {
              "outlinewidth": 0,
              "ticks": ""
             }
            },
            "type": "parcoords"
           }
          ],
          "pie": [
           {
            "automargin": true,
            "type": "pie"
           }
          ],
          "scatter": [
           {
            "fillpattern": {
             "fillmode": "overlay",
             "size": 10,
             "solidity": 0.2
            },
            "type": "scatter"
           }
          ],
          "scatter3d": [
           {
            "line": {
             "colorbar": {
              "outlinewidth": 0,
              "ticks": ""
             }
            },
            "marker": {
             "colorbar": {
              "outlinewidth": 0,
              "ticks": ""
             }
            },
            "type": "scatter3d"
           }
          ],
          "scattercarpet": [
           {
            "marker": {
             "colorbar": {
              "outlinewidth": 0,
              "ticks": ""
             }
            },
            "type": "scattercarpet"
           }
          ],
          "scattergeo": [
           {
            "marker": {
             "colorbar": {
              "outlinewidth": 0,
              "ticks": ""
             }
            },
            "type": "scattergeo"
           }
          ],
          "scattergl": [
           {
            "marker": {
             "colorbar": {
              "outlinewidth": 0,
              "ticks": ""
             }
            },
            "type": "scattergl"
           }
          ],
          "scattermapbox": [
           {
            "marker": {
             "colorbar": {
              "outlinewidth": 0,
              "ticks": ""
             }
            },
            "type": "scattermapbox"
           }
          ],
          "scatterpolar": [
           {
            "marker": {
             "colorbar": {
              "outlinewidth": 0,
              "ticks": ""
             }
            },
            "type": "scatterpolar"
           }
          ],
          "scatterpolargl": [
           {
            "marker": {
             "colorbar": {
              "outlinewidth": 0,
              "ticks": ""
             }
            },
            "type": "scatterpolargl"
           }
          ],
          "scatterternary": [
           {
            "marker": {
             "colorbar": {
              "outlinewidth": 0,
              "ticks": ""
             }
            },
            "type": "scatterternary"
           }
          ],
          "surface": [
           {
            "colorbar": {
             "outlinewidth": 0,
             "ticks": ""
            },
            "colorscale": [
             [
              0,
              "#0d0887"
             ],
             [
              0.1111111111111111,
              "#46039f"
             ],
             [
              0.2222222222222222,
              "#7201a8"
             ],
             [
              0.3333333333333333,
              "#9c179e"
             ],
             [
              0.4444444444444444,
              "#bd3786"
             ],
             [
              0.5555555555555556,
              "#d8576b"
             ],
             [
              0.6666666666666666,
              "#ed7953"
             ],
             [
              0.7777777777777778,
              "#fb9f3a"
             ],
             [
              0.8888888888888888,
              "#fdca26"
             ],
             [
              1,
              "#f0f921"
             ]
            ],
            "type": "surface"
           }
          ],
          "table": [
           {
            "cells": {
             "fill": {
              "color": "#EBF0F8"
             },
             "line": {
              "color": "white"
             }
            },
            "header": {
             "fill": {
              "color": "#C8D4E3"
             },
             "line": {
              "color": "white"
             }
            },
            "type": "table"
           }
          ]
         },
         "layout": {
          "annotationdefaults": {
           "arrowcolor": "#2a3f5f",
           "arrowhead": 0,
           "arrowwidth": 1
          },
          "autotypenumbers": "strict",
          "coloraxis": {
           "colorbar": {
            "outlinewidth": 0,
            "ticks": ""
           }
          },
          "colorscale": {
           "diverging": [
            [
             0,
             "#8e0152"
            ],
            [
             0.1,
             "#c51b7d"
            ],
            [
             0.2,
             "#de77ae"
            ],
            [
             0.3,
             "#f1b6da"
            ],
            [
             0.4,
             "#fde0ef"
            ],
            [
             0.5,
             "#f7f7f7"
            ],
            [
             0.6,
             "#e6f5d0"
            ],
            [
             0.7,
             "#b8e186"
            ],
            [
             0.8,
             "#7fbc41"
            ],
            [
             0.9,
             "#4d9221"
            ],
            [
             1,
             "#276419"
            ]
           ],
           "sequential": [
            [
             0,
             "#0d0887"
            ],
            [
             0.1111111111111111,
             "#46039f"
            ],
            [
             0.2222222222222222,
             "#7201a8"
            ],
            [
             0.3333333333333333,
             "#9c179e"
            ],
            [
             0.4444444444444444,
             "#bd3786"
            ],
            [
             0.5555555555555556,
             "#d8576b"
            ],
            [
             0.6666666666666666,
             "#ed7953"
            ],
            [
             0.7777777777777778,
             "#fb9f3a"
            ],
            [
             0.8888888888888888,
             "#fdca26"
            ],
            [
             1,
             "#f0f921"
            ]
           ],
           "sequentialminus": [
            [
             0,
             "#0d0887"
            ],
            [
             0.1111111111111111,
             "#46039f"
            ],
            [
             0.2222222222222222,
             "#7201a8"
            ],
            [
             0.3333333333333333,
             "#9c179e"
            ],
            [
             0.4444444444444444,
             "#bd3786"
            ],
            [
             0.5555555555555556,
             "#d8576b"
            ],
            [
             0.6666666666666666,
             "#ed7953"
            ],
            [
             0.7777777777777778,
             "#fb9f3a"
            ],
            [
             0.8888888888888888,
             "#fdca26"
            ],
            [
             1,
             "#f0f921"
            ]
           ]
          },
          "colorway": [
           "#636efa",
           "#EF553B",
           "#00cc96",
           "#ab63fa",
           "#FFA15A",
           "#19d3f3",
           "#FF6692",
           "#B6E880",
           "#FF97FF",
           "#FECB52"
          ],
          "font": {
           "color": "#2a3f5f"
          },
          "geo": {
           "bgcolor": "white",
           "lakecolor": "white",
           "landcolor": "#E5ECF6",
           "showlakes": true,
           "showland": true,
           "subunitcolor": "white"
          },
          "hoverlabel": {
           "align": "left"
          },
          "hovermode": "closest",
          "mapbox": {
           "style": "light"
          },
          "paper_bgcolor": "white",
          "plot_bgcolor": "#E5ECF6",
          "polar": {
           "angularaxis": {
            "gridcolor": "white",
            "linecolor": "white",
            "ticks": ""
           },
           "bgcolor": "#E5ECF6",
           "radialaxis": {
            "gridcolor": "white",
            "linecolor": "white",
            "ticks": ""
           }
          },
          "scene": {
           "xaxis": {
            "backgroundcolor": "#E5ECF6",
            "gridcolor": "white",
            "gridwidth": 2,
            "linecolor": "white",
            "showbackground": true,
            "ticks": "",
            "zerolinecolor": "white"
           },
           "yaxis": {
            "backgroundcolor": "#E5ECF6",
            "gridcolor": "white",
            "gridwidth": 2,
            "linecolor": "white",
            "showbackground": true,
            "ticks": "",
            "zerolinecolor": "white"
           },
           "zaxis": {
            "backgroundcolor": "#E5ECF6",
            "gridcolor": "white",
            "gridwidth": 2,
            "linecolor": "white",
            "showbackground": true,
            "ticks": "",
            "zerolinecolor": "white"
           }
          },
          "shapedefaults": {
           "line": {
            "color": "#2a3f5f"
           }
          },
          "ternary": {
           "aaxis": {
            "gridcolor": "white",
            "linecolor": "white",
            "ticks": ""
           },
           "baxis": {
            "gridcolor": "white",
            "linecolor": "white",
            "ticks": ""
           },
           "bgcolor": "#E5ECF6",
           "caxis": {
            "gridcolor": "white",
            "linecolor": "white",
            "ticks": ""
           }
          },
          "title": {
           "x": 0.05
          },
          "xaxis": {
           "automargin": true,
           "gridcolor": "white",
           "linecolor": "white",
           "ticks": "",
           "title": {
            "standoff": 15
           },
           "zerolinecolor": "white",
           "zerolinewidth": 2
          },
          "yaxis": {
           "automargin": true,
           "gridcolor": "white",
           "linecolor": "white",
           "ticks": "",
           "title": {
            "standoff": 15
           },
           "zerolinecolor": "white",
           "zerolinewidth": 2
          }
         }
        },
        "width": 550,
        "xaxis": {
         "tickfont": {
          "color": "black",
          "size": 20
         },
         "title": {
          "font": {
           "color": "black",
           "size": 22
          },
          "text": "Cost Portions"
         }
        },
        "yaxis": {
         "gridcolor": "lightgrey",
         "showgrid": true,
         "tickfont": {
          "color": "black",
          "size": 20
         },
         "title": {
          "font": {
           "color": "black",
           "size": 22
          },
          "text": "LCOH [USD/kgH2]"
         }
        }
       }
      }
     },
     "metadata": {},
     "output_type": "display_data"
    }
   ],
   "source": [
    "generate_waterfall_chart(gdf_data, 'trucking')"
   ]
  },
  {
   "cell_type": "code",
   "execution_count": null,
   "metadata": {},
   "outputs": [],
   "source": [
    "'pipeline production cost',\n",
    "'pipeline solar capacity',\n",
    "'pipeline wind capacity',\n",
    "'pipeline hydro capacity',\n",
    "'pipeline electrolyzer capacity',\n",
    "'pipeline battery capacity',\n",
    "'pipeline H2 storage capacity',"
   ]
  }
 ],
 "metadata": {
  "kernelspec": {
   "display_name": "base",
   "language": "python",
   "name": "python3"
  },
  "language_info": {
   "codemirror_mode": {
    "name": "ipython",
    "version": 3
   },
   "file_extension": ".py",
   "mimetype": "text/x-python",
   "name": "python",
   "nbconvert_exporter": "python",
   "pygments_lexer": "ipython3",
   "version": "3.12.3"
  }
 },
 "nbformat": 4,
 "nbformat_minor": 2
}
