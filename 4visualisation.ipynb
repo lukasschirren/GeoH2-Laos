{
 "cells": [
  {
   "cell_type": "code",
   "execution_count": 3,
   "metadata": {},
   "outputs": [],
   "source": [
    "import geopandas as gpd\n",
    "import cartopy.crs as ccrs\n",
    "import matplotlib.pyplot as plt\n",
    "import pandas as pd\n",
    "import numpy as np\n",
    "import plotly.graph_objects as go\n",
    "import os"
   ]
  },
  {
   "cell_type": "code",
   "execution_count": 14,
   "metadata": {},
   "outputs": [
    {
     "ename": "DataSourceError",
     "evalue": "Resources\\Scenario_wet_PEM_30\\hex_cost_components.geojson: No such file or directory",
     "output_type": "error",
     "traceback": [
      "\u001b[1;31m---------------------------------------------------------------------------\u001b[0m",
      "\u001b[1;31mDataSourceError\u001b[0m                           Traceback (most recent call last)",
      "Cell \u001b[1;32mIn[14], line 5\u001b[0m\n\u001b[0;32m      2\u001b[0m scenario_year \u001b[38;5;241m=\u001b[39m \u001b[38;5;124m\"\u001b[39m\u001b[38;5;124m30\u001b[39m\u001b[38;5;124m\"\u001b[39m \u001b[38;5;66;03m# 25 30\u001b[39;00m\n\u001b[0;32m      3\u001b[0m electrolyser_type \u001b[38;5;241m=\u001b[39m \u001b[38;5;124m\"\u001b[39m\u001b[38;5;124mPEM\u001b[39m\u001b[38;5;124m\"\u001b[39m \u001b[38;5;66;03m# ALK PEM\u001b[39;00m\n\u001b[1;32m----> 5\u001b[0m gdf_data \u001b[38;5;241m=\u001b[39m gpd\u001b[38;5;241m.\u001b[39mread_file(\u001b[38;5;124mf\u001b[39m\u001b[38;5;124m'\u001b[39m\u001b[38;5;124mResources\u001b[39m\u001b[38;5;130;01m\\\\\u001b[39;00m\u001b[38;5;124mScenario_\u001b[39m\u001b[38;5;132;01m{\u001b[39;00mhydro_year\u001b[38;5;132;01m}\u001b[39;00m\u001b[38;5;124m_\u001b[39m\u001b[38;5;132;01m{\u001b[39;00melectrolyser_type\u001b[38;5;132;01m}\u001b[39;00m\u001b[38;5;124m_\u001b[39m\u001b[38;5;132;01m{\u001b[39;00mscenario_year\u001b[38;5;132;01m}\u001b[39;00m\u001b[38;5;130;01m\\\\\u001b[39;00m\u001b[38;5;124mhex_cost_components.geojson\u001b[39m\u001b[38;5;124m'\u001b[39m)\n\u001b[0;32m      6\u001b[0m \u001b[38;5;66;03m# gdf_data = gpd.read_file(f'Resources\\\\Scenario_{hydro_year}_{electrolyser_type}_{scenario_year}\\\\hex_cost_components.geojson')\u001b[39;00m\n\u001b[0;32m      8\u001b[0m plot_full_cost_map(\n\u001b[0;32m      9\u001b[0m     gdf_data, \u001b[38;5;124m'\u001b[39m\u001b[38;5;124mVientiane\u001b[39m\u001b[38;5;124m'\u001b[39m, \u001b[38;5;124m'\u001b[39m\u001b[38;5;124mVientiane trucking production cost\u001b[39m\u001b[38;5;124m'\u001b[39m, \n\u001b[0;32m     10\u001b[0m     \u001b[38;5;124mr\u001b[39m\u001b[38;5;124m'\u001b[39m\u001b[38;5;124mResources\u001b[39m\u001b[38;5;124m\\\u001b[39m\u001b[38;5;124mScenario_dry_ALK_25\u001b[39m\u001b[38;5;124m\\\u001b[39m\u001b[38;5;124mVisualisation\u001b[39m\u001b[38;5;124m\\\u001b[39m\u001b[38;5;124mvisualisation_lowest_cost.png\u001b[39m\u001b[38;5;124m'\u001b[39m, \n\u001b[0;32m     11\u001b[0m     vmin\u001b[38;5;241m=\u001b[39mvmin, vmax\u001b[38;5;241m=\u001b[39mvmax\n\u001b[0;32m     12\u001b[0m )\n",
      "File \u001b[1;32mc:\\Users\\ls2823\\AppData\\Local\\anaconda3\\Lib\\site-packages\\geopandas\\io\\file.py:294\u001b[0m, in \u001b[0;36m_read_file\u001b[1;34m(filename, bbox, mask, columns, rows, engine, **kwargs)\u001b[0m\n\u001b[0;32m    291\u001b[0m             from_bytes \u001b[38;5;241m=\u001b[39m \u001b[38;5;28;01mTrue\u001b[39;00m\n\u001b[0;32m    293\u001b[0m \u001b[38;5;28;01mif\u001b[39;00m engine \u001b[38;5;241m==\u001b[39m \u001b[38;5;124m\"\u001b[39m\u001b[38;5;124mpyogrio\u001b[39m\u001b[38;5;124m\"\u001b[39m:\n\u001b[1;32m--> 294\u001b[0m     \u001b[38;5;28;01mreturn\u001b[39;00m _read_file_pyogrio(\n\u001b[0;32m    295\u001b[0m         filename, bbox\u001b[38;5;241m=\u001b[39mbbox, mask\u001b[38;5;241m=\u001b[39mmask, columns\u001b[38;5;241m=\u001b[39mcolumns, rows\u001b[38;5;241m=\u001b[39mrows, \u001b[38;5;241m*\u001b[39m\u001b[38;5;241m*\u001b[39mkwargs\n\u001b[0;32m    296\u001b[0m     )\n\u001b[0;32m    298\u001b[0m \u001b[38;5;28;01melif\u001b[39;00m engine \u001b[38;5;241m==\u001b[39m \u001b[38;5;124m\"\u001b[39m\u001b[38;5;124mfiona\u001b[39m\u001b[38;5;124m\"\u001b[39m:\n\u001b[0;32m    299\u001b[0m     \u001b[38;5;28;01mif\u001b[39;00m pd\u001b[38;5;241m.\u001b[39mapi\u001b[38;5;241m.\u001b[39mtypes\u001b[38;5;241m.\u001b[39mis_file_like(filename):\n",
      "File \u001b[1;32mc:\\Users\\ls2823\\AppData\\Local\\anaconda3\\Lib\\site-packages\\geopandas\\io\\file.py:547\u001b[0m, in \u001b[0;36m_read_file_pyogrio\u001b[1;34m(path_or_bytes, bbox, mask, rows, **kwargs)\u001b[0m\n\u001b[0;32m    538\u001b[0m     warnings\u001b[38;5;241m.\u001b[39mwarn(\n\u001b[0;32m    539\u001b[0m         \u001b[38;5;124m\"\u001b[39m\u001b[38;5;124mThe \u001b[39m\u001b[38;5;124m'\u001b[39m\u001b[38;5;124minclude_fields\u001b[39m\u001b[38;5;124m'\u001b[39m\u001b[38;5;124m and \u001b[39m\u001b[38;5;124m'\u001b[39m\u001b[38;5;124mignore_fields\u001b[39m\u001b[38;5;124m'\u001b[39m\u001b[38;5;124m keywords are deprecated, and \u001b[39m\u001b[38;5;124m\"\u001b[39m\n\u001b[0;32m    540\u001b[0m         \u001b[38;5;124m\"\u001b[39m\u001b[38;5;124mwill be removed in a future release. You can use the \u001b[39m\u001b[38;5;124m'\u001b[39m\u001b[38;5;124mcolumns\u001b[39m\u001b[38;5;124m'\u001b[39m\u001b[38;5;124m keyword \u001b[39m\u001b[38;5;124m\"\u001b[39m\n\u001b[1;32m   (...)\u001b[0m\n\u001b[0;32m    543\u001b[0m         stacklevel\u001b[38;5;241m=\u001b[39m\u001b[38;5;241m3\u001b[39m,\n\u001b[0;32m    544\u001b[0m     )\n\u001b[0;32m    545\u001b[0m     kwargs[\u001b[38;5;124m\"\u001b[39m\u001b[38;5;124mcolumns\u001b[39m\u001b[38;5;124m\"\u001b[39m] \u001b[38;5;241m=\u001b[39m kwargs\u001b[38;5;241m.\u001b[39mpop(\u001b[38;5;124m\"\u001b[39m\u001b[38;5;124minclude_fields\u001b[39m\u001b[38;5;124m\"\u001b[39m)\n\u001b[1;32m--> 547\u001b[0m \u001b[38;5;28;01mreturn\u001b[39;00m pyogrio\u001b[38;5;241m.\u001b[39mread_dataframe(path_or_bytes, bbox\u001b[38;5;241m=\u001b[39mbbox, \u001b[38;5;241m*\u001b[39m\u001b[38;5;241m*\u001b[39mkwargs)\n",
      "File \u001b[1;32mc:\\Users\\ls2823\\AppData\\Local\\anaconda3\\Lib\\site-packages\\pyogrio\\geopandas.py:265\u001b[0m, in \u001b[0;36mread_dataframe\u001b[1;34m(path_or_buffer, layer, encoding, columns, read_geometry, force_2d, skip_features, max_features, where, bbox, mask, fids, sql, sql_dialect, fid_as_index, use_arrow, on_invalid, arrow_to_pandas_kwargs, **kwargs)\u001b[0m\n\u001b[0;32m    260\u001b[0m \u001b[38;5;28;01mif\u001b[39;00m \u001b[38;5;129;01mnot\u001b[39;00m use_arrow:\n\u001b[0;32m    261\u001b[0m     \u001b[38;5;66;03m# For arrow, datetimes are read as is.\u001b[39;00m\n\u001b[0;32m    262\u001b[0m     \u001b[38;5;66;03m# For numpy IO, datetimes are read as string values to preserve timezone info\u001b[39;00m\n\u001b[0;32m    263\u001b[0m     \u001b[38;5;66;03m# as numpy does not directly support timezones.\u001b[39;00m\n\u001b[0;32m    264\u001b[0m     kwargs[\u001b[38;5;124m\"\u001b[39m\u001b[38;5;124mdatetime_as_string\u001b[39m\u001b[38;5;124m\"\u001b[39m] \u001b[38;5;241m=\u001b[39m \u001b[38;5;28;01mTrue\u001b[39;00m\n\u001b[1;32m--> 265\u001b[0m result \u001b[38;5;241m=\u001b[39m read_func(\n\u001b[0;32m    266\u001b[0m     path_or_buffer,\n\u001b[0;32m    267\u001b[0m     layer\u001b[38;5;241m=\u001b[39mlayer,\n\u001b[0;32m    268\u001b[0m     encoding\u001b[38;5;241m=\u001b[39mencoding,\n\u001b[0;32m    269\u001b[0m     columns\u001b[38;5;241m=\u001b[39mcolumns,\n\u001b[0;32m    270\u001b[0m     read_geometry\u001b[38;5;241m=\u001b[39mread_geometry,\n\u001b[0;32m    271\u001b[0m     force_2d\u001b[38;5;241m=\u001b[39mgdal_force_2d,\n\u001b[0;32m    272\u001b[0m     skip_features\u001b[38;5;241m=\u001b[39mskip_features,\n\u001b[0;32m    273\u001b[0m     max_features\u001b[38;5;241m=\u001b[39mmax_features,\n\u001b[0;32m    274\u001b[0m     where\u001b[38;5;241m=\u001b[39mwhere,\n\u001b[0;32m    275\u001b[0m     bbox\u001b[38;5;241m=\u001b[39mbbox,\n\u001b[0;32m    276\u001b[0m     mask\u001b[38;5;241m=\u001b[39mmask,\n\u001b[0;32m    277\u001b[0m     fids\u001b[38;5;241m=\u001b[39mfids,\n\u001b[0;32m    278\u001b[0m     sql\u001b[38;5;241m=\u001b[39msql,\n\u001b[0;32m    279\u001b[0m     sql_dialect\u001b[38;5;241m=\u001b[39msql_dialect,\n\u001b[0;32m    280\u001b[0m     return_fids\u001b[38;5;241m=\u001b[39mfid_as_index,\n\u001b[0;32m    281\u001b[0m     \u001b[38;5;241m*\u001b[39m\u001b[38;5;241m*\u001b[39mkwargs,\n\u001b[0;32m    282\u001b[0m )\n\u001b[0;32m    284\u001b[0m \u001b[38;5;28;01mif\u001b[39;00m use_arrow:\n\u001b[0;32m    285\u001b[0m     meta, table \u001b[38;5;241m=\u001b[39m result\n",
      "File \u001b[1;32mc:\\Users\\ls2823\\AppData\\Local\\anaconda3\\Lib\\site-packages\\pyogrio\\raw.py:198\u001b[0m, in \u001b[0;36mread\u001b[1;34m(path_or_buffer, layer, encoding, columns, read_geometry, force_2d, skip_features, max_features, where, bbox, mask, fids, sql, sql_dialect, return_fids, datetime_as_string, **kwargs)\u001b[0m\n\u001b[0;32m     59\u001b[0m \u001b[38;5;250m\u001b[39m\u001b[38;5;124;03m\"\"\"Read OGR data source into numpy arrays.\u001b[39;00m\n\u001b[0;32m     60\u001b[0m \n\u001b[0;32m     61\u001b[0m \u001b[38;5;124;03mIMPORTANT: non-linear geometry types (e.g., MultiSurface) are converted\u001b[39;00m\n\u001b[1;32m   (...)\u001b[0m\n\u001b[0;32m    194\u001b[0m \n\u001b[0;32m    195\u001b[0m \u001b[38;5;124;03m\"\"\"\u001b[39;00m\n\u001b[0;32m    196\u001b[0m dataset_kwargs \u001b[38;5;241m=\u001b[39m _preprocess_options_key_value(kwargs) \u001b[38;5;28;01mif\u001b[39;00m kwargs \u001b[38;5;28;01melse\u001b[39;00m {}\n\u001b[1;32m--> 198\u001b[0m \u001b[38;5;28;01mreturn\u001b[39;00m ogr_read(\n\u001b[0;32m    199\u001b[0m     get_vsi_path_or_buffer(path_or_buffer),\n\u001b[0;32m    200\u001b[0m     layer\u001b[38;5;241m=\u001b[39mlayer,\n\u001b[0;32m    201\u001b[0m     encoding\u001b[38;5;241m=\u001b[39mencoding,\n\u001b[0;32m    202\u001b[0m     columns\u001b[38;5;241m=\u001b[39mcolumns,\n\u001b[0;32m    203\u001b[0m     read_geometry\u001b[38;5;241m=\u001b[39mread_geometry,\n\u001b[0;32m    204\u001b[0m     force_2d\u001b[38;5;241m=\u001b[39mforce_2d,\n\u001b[0;32m    205\u001b[0m     skip_features\u001b[38;5;241m=\u001b[39mskip_features,\n\u001b[0;32m    206\u001b[0m     max_features\u001b[38;5;241m=\u001b[39mmax_features \u001b[38;5;129;01mor\u001b[39;00m \u001b[38;5;241m0\u001b[39m,\n\u001b[0;32m    207\u001b[0m     where\u001b[38;5;241m=\u001b[39mwhere,\n\u001b[0;32m    208\u001b[0m     bbox\u001b[38;5;241m=\u001b[39mbbox,\n\u001b[0;32m    209\u001b[0m     mask\u001b[38;5;241m=\u001b[39m_mask_to_wkb(mask),\n\u001b[0;32m    210\u001b[0m     fids\u001b[38;5;241m=\u001b[39mfids,\n\u001b[0;32m    211\u001b[0m     sql\u001b[38;5;241m=\u001b[39msql,\n\u001b[0;32m    212\u001b[0m     sql_dialect\u001b[38;5;241m=\u001b[39msql_dialect,\n\u001b[0;32m    213\u001b[0m     return_fids\u001b[38;5;241m=\u001b[39mreturn_fids,\n\u001b[0;32m    214\u001b[0m     dataset_kwargs\u001b[38;5;241m=\u001b[39mdataset_kwargs,\n\u001b[0;32m    215\u001b[0m     datetime_as_string\u001b[38;5;241m=\u001b[39mdatetime_as_string,\n\u001b[0;32m    216\u001b[0m )\n",
      "File \u001b[1;32mpyogrio\\\\_io.pyx:1240\u001b[0m, in \u001b[0;36mpyogrio._io.ogr_read\u001b[1;34m()\u001b[0m\n",
      "File \u001b[1;32mpyogrio\\\\_io.pyx:220\u001b[0m, in \u001b[0;36mpyogrio._io.ogr_open\u001b[1;34m()\u001b[0m\n",
      "\u001b[1;31mDataSourceError\u001b[0m: Resources\\Scenario_wet_PEM_30\\hex_cost_components.geojson: No such file or directory"
     ]
    }
   ],
   "source": [
    "hydro_year = \"wet\" # wet dry atlite\n",
    "scenario_year = \"30\" # 25 30\n",
    "electrolyser_type = \"PEM\" # ALK PEM\n",
    "\n",
    "gdf_data = gpd.read_file(f'Resources\\\\Scenario_{hydro_year}_{electrolyser_type}_{scenario_year}\\\\hex_cost_components.geojson')\n",
    "# gdf_data = gpd.read_file(f'Resources\\\\Scenario_{hydro_year}_{electrolyser_type}_{scenario_year}\\\\hex_cost_components.geojson')\n",
    "\n",
    "plot_full_cost_map(\n",
    "    gdf_data, 'Vientiane', 'Vientiane trucking production cost', \n",
    "    r'Resources\\Scenario_dry_ALK_25\\Visualisation\\visualisation_lowest_cost.png', \n",
    "    vmin=vmin, vmax=vmax\n",
    ")\n",
    "\n",
    "plot_cost_distribution(gdf_data, \n",
    "                       'Vientiane trucking production cost', \n",
    "                       'cost_distribution.png', 15)"
   ]
  },
  {
   "cell_type": "code",
   "execution_count": 3,
   "metadata": {},
   "outputs": [
    {
     "data": {
      "text/plain": [
       "6.4193468657285"
      ]
     },
     "execution_count": 3,
     "metadata": {},
     "output_type": "execute_result"
    }
   ],
   "source": [
    "gdf_data[\"Vientiane trucking production cost\"].min()"
   ]
  },
  {
   "cell_type": "markdown",
   "metadata": {},
   "source": [
    "### Plot all lines in one plot"
   ]
  },
  {
   "cell_type": "code",
   "execution_count": 70,
   "metadata": {},
   "outputs": [],
   "source": [
    "def ensure_directory_exists(path):\n",
    "    \"\"\"Create directory if it doesn't exist\"\"\"\n",
    "    if not os.path.exists(path):\n",
    "        os.makedirs(path)"
   ]
  },
  {
   "cell_type": "code",
   "execution_count": 150,
   "metadata": {},
   "outputs": [],
   "source": [
    "def plot_combined_cost_distribution(max_cost=15, max_x=250):\n",
    "    \"\"\"Creates combined cost distribution plot for net and total generation\"\"\"\n",
    "    output_dir = os.path.join('Visualisation', 'comparisons')\n",
    "    ensure_directory_exists(output_dir)\n",
    "    \n",
    "    scenarios = [\n",
    "        ('wet', 'ALK', '25'), ('wet', 'ALK', '30'),\n",
    "        ('wet', 'PEM', '25'), ('wet', 'PEM', '30'),\n",
    "        ('dry', 'ALK', '25'), ('dry', 'ALK', '30'),\n",
    "        ('dry', 'PEM', '25'), ('dry', 'PEM', '30'),\n",
    "        ('atlite', 'ALK', '25'), ('atlite', 'PEM', '25')\n",
    "    ]\n",
    "    \n",
    "    colors = ['#1f77b4', '#ff7f0e', '#2ca02c', '#d62728', \n",
    "              '#9467bd', '#8c564b', '#e377c2', '#7f7f7f',\n",
    "              '#17becf', '#bcbd22']\n",
    "    \n",
    "    fig, ax = plt.subplots(figsize=(10, 6), facecolor='white', dpi=300)\n",
    "    ax.set_facecolor('white')\n",
    "    \n",
    "    net_lines = []\n",
    "    total_lines = []\n",
    "    \n",
    "    for (hydro_year, electrolyser_type, scenario_year), color in zip(scenarios, colors):\n",
    "        x_net, costs_net, initial_net = load_and_process_data(\n",
    "            f'Resources/net_generation/Scenario_{hydro_year}_{electrolyser_type}_{scenario_year}/hex_cost_components.geojson',\n",
    "            'Vientiane trucking production cost',\n",
    "            max_cost,\n",
    "            max_x\n",
    "        )\n",
    "        \n",
    "        x_total, costs_total, initial_total = load_and_process_data(\n",
    "            f'Resources/Scenario_{hydro_year}_{electrolyser_type}_{scenario_year}/hex_cost_components.geojson',\n",
    "            'Vientiane trucking production cost',\n",
    "            max_cost,\n",
    "            max_x\n",
    "        )\n",
    "        \n",
    "        label_base = f'{hydro_year.capitalize()} {electrolyser_type} 20{scenario_year}'\n",
    "        \n",
    "        if x_net is not None and initial_net is not None:\n",
    "            line = ax.plot(x_net, costs_net, color=color, linewidth=1.2, linestyle='--', \n",
    "                         label=label_base)[0]\n",
    "            ax.plot(0, initial_net, '^', color=color, markersize=3, \n",
    "                   markerfacecolor='none', markeredgewidth=2)\n",
    "            net_lines.append((label_base, line))\n",
    "            \n",
    "        if x_total is not None and initial_total is not None:\n",
    "            line = ax.plot(x_total, costs_total, color=color, linewidth=1.2,\n",
    "                         label=label_base)[0]\n",
    "            ax.plot(0, initial_total, 'o', color=color, markersize=5, \n",
    "                   markerfacecolor=color, markeredgewidth=0)\n",
    "            total_lines.append((label_base, line))\n",
    "    \n",
    "    # Create custom legend with headers\n",
    "    net_header = ax.plot([], [], '', color='none', label='Net Generation')[0]\n",
    "    total_header = ax.plot([], [], '', color='none', label='Total Generation')[0]\n",
    "    \n",
    "    net_lines.sort(key=lambda x: x[0])\n",
    "    total_lines.sort(key=lambda x: x[0])\n",
    "    \n",
    "    legend_elements = [net_header] + [line for _, line in net_lines] + \\\n",
    "                     [total_header] + [line for _, line in total_lines]\n",
    "    legend_labels = ['Net Generation'] + [label for label, _ in net_lines] + \\\n",
    "                   ['Total Generation'] + [label for label, _ in total_lines]\n",
    "    \n",
    "    # Create legend with custom font properties\n",
    "    legend = ax.legend(legend_elements, legend_labels, \n",
    "                      bbox_to_anchor=(1.05, 1), loc='upper left', \n",
    "                      fontsize=10) # \n",
    "    \n",
    "    # Set font properties for headers\n",
    "    header_font = {'size': 10, 'weight': 'bold'}\n",
    "    legend.get_texts()[0].set_fontproperties(FontProperties(**header_font))\n",
    "    legend.get_texts()[len(net_lines) + 1].set_fontproperties(FontProperties(**header_font))\n",
    "    \n",
    "    ax.set_xlabel('Cumulative Production Potential (kt)', fontsize=12)\n",
    "    ax.set_ylabel('LCOH (USD/kgH2)', fontsize=12)\n",
    "    ax.grid(True, linestyle='--', alpha=0.3)\n",
    "    ax.set_ylim(2, max_cost)\n",
    "    ax.set_xlim(-0.5, max_x)\n",
    "    \n",
    "    tick_spacing = 1\n",
    "    ticks = np.arange(0, max_x + tick_spacing, tick_spacing)\n",
    "    ax.set_xticks(ticks)\n",
    "    ax.set_xticklabels([str(int(x)) for x in ticks])\n",
    "    \n",
    "    plt.tight_layout()\n",
    "    save_path = os.path.join(output_dir, 'cost_distribution_net_vs_total.png')\n",
    "    fig.savefig(save_path, dpi=300, bbox_inches='tight', facecolor='white')\n",
    "    plt.close(fig)"
   ]
  },
  {
   "cell_type": "code",
   "execution_count": 151,
   "metadata": {},
   "outputs": [],
   "source": [
    "from matplotlib.font_manager import FontProperties\n",
    "plot_combined_cost_distribution(10.5,8)"
   ]
  },
  {
   "cell_type": "markdown",
   "metadata": {},
   "source": [
    "## Hexagon map"
   ]
  },
  {
   "cell_type": "code",
   "execution_count": 7,
   "metadata": {},
   "outputs": [],
   "source": [
    "# Function to plot the full cost map\n",
    "def plot_full_cost_map(hexagons, demand_center, cost_column, save_path, provinces=None, vmin=None, vmax=None):\n",
    "    \"\"\"\n",
    "    Plots a map showing production costs in USD/kg with province boundaries.\n",
    "    \n",
    "    Parameters:\n",
    "    - hexagons: GeoDataFrame containing the hexagons and data.\n",
    "    - demand_center: Name of the demand center (e.g., 'Vientiane').\n",
    "    - cost_column: The specific column for production cost (e.g., 'Vientiane trucking production cost').\n",
    "    - save_path: File path to save the PNG image.\n",
    "    - provinces: GeoDataFrame for province boundaries.\n",
    "    - vmin: Minimum value for the color scale (optional).\n",
    "    - vmax: Maximum value for the color scale (optional).\n",
    "    \"\"\"\n",
    "    crs = ccrs.PlateCarree()  # Example projection, adjust as needed\n",
    "    fig, ax = plt.subplots(figsize=(12, 8), subplot_kw={'projection': crs})\n",
    "    ax.set_axis_off()\n",
    "\n",
    "    hexagons_copy = hexagons.copy()\n",
    "\n",
    "    # Mask zero values\n",
    "    zero_mask = hexagons_copy[cost_column] == 0\n",
    "    hexagons_copy.loc[zero_mask, cost_column] = np.nan\n",
    "\n",
    "    # Plot the province boundaries if provided (this will be below the hexagons)\n",
    "    if provinces is not None:\n",
    "        provinces.to_crs(crs.proj4_init).plot(\n",
    "            ax=ax, color='none', edgecolor='black', linewidth=0.5)\n",
    "\n",
    "    # Plot the hexagons with production cost, applying the min/max thresholds\n",
    "    plot = hexagons_copy.to_crs(crs.proj4_init).plot(\n",
    "        ax=ax,\n",
    "        column=cost_column,\n",
    "        legend=True,\n",
    "        cmap='Greens_r',\n",
    "        legend_kwds={\n",
    "            'label': 'LCOH (USD/kgH2)',\n",
    "            'orientation': 'vertical',\n",
    "            'shrink': 0.5,\n",
    "            'pad': 0.05,\n",
    "            'anchor': (-1.1, 1.0)\n",
    "        },\n",
    "        missing_kwds={\n",
    "            \"color\": \"lightgrey\",\n",
    "            \"label\": \"No Data or Zero\",\n",
    "        },\n",
    "        edgecolor='black',\n",
    "        linewidth=0.2,\n",
    "        vmin=vmin,  # Set the minimum value for the color scale\n",
    "        vmax=vmax   # Set the maximum value for the color scale\n",
    "    )\n",
    "\n",
    "    # Adjust legend position to be on the right side and closer to the center\n",
    "    if plot.get_legend() is not None:\n",
    "        legend = plot.get_legend()\n",
    "        legend.set_bbox_to_anchor((1, 0.5))\n",
    "        legend.set_frame_on(True)\n",
    "\n",
    "    plt.show()\n",
    "\n",
    "    # Save the figure\n",
    "    # fig.savefig(save_path, dpi=300, bbox_inches='tight')\n",
    "    plt.close(fig)\n"
   ]
  },
  {
   "cell_type": "code",
   "execution_count": 9,
   "metadata": {},
   "outputs": [
    {
     "data": {
      "image/png": "[encoded data removed]",
      "text/plain": [
       "<Figure size 1200x800 with 2 Axes>"
      ]
     },
     "metadata": {},
     "output_type": "display_data"
    }
   ],
   "source": [
    "vmin = 5\n",
    "vmax = 15\n",
    "\n",
    "plot_full_cost_map(\n",
    "    gdf_data, 'Vientiane', 'Vientiane trucking production cost', \n",
    "    r'Resources\\Scenario_dry_ALK_25\\Visualisation\\visualisation_lowest_cost.png', \n",
    "    vmin=vmin, vmax=vmax\n",
    ")"
   ]
  },
  {
   "cell_type": "markdown",
   "metadata": {},
   "source": [
    "## Cost Curve"
   ]
  },
  {
   "cell_type": "code",
   "execution_count": 11,
   "metadata": {},
   "outputs": [
    {
     "data": {
      "image/png": "[encoded data removed]",
      "text/plain": [
       "<Figure size 1000x600 with 1 Axes>"
      ]
     },
     "metadata": {},
     "output_type": "display_data"
    }
   ],
   "source": [
    "def plot_cost_distribution(hexagons, cost_column, save_path, max_cost=10):\n",
    "    \"\"\"Creates clean line plot of production costs vs cumulative potential\"\"\"\n",
    "    # Filter and sort data\n",
    "    mask = (hexagons[cost_column] > 0) & (hexagons[cost_column] <= max_cost)\n",
    "    costs = hexagons[mask][cost_column].sort_values()\n",
    "    x_values = np.arange(len(costs)) * 1000\n",
    "    \n",
    "    # Create plot with white background\n",
    "    fig, ax = plt.subplots(figsize=(10, 6), facecolor='white')\n",
    "    ax.set_facecolor('white')\n",
    "    \n",
    "    # Plot line and fill\n",
    "    ax.plot(x_values, costs, color='#2ecc71', linewidth=2.5)\n",
    "    # ax.fill_between(x_values, costs, alpha=0.2, color='#2ecc71')\n",
    "    \n",
    "    # Styling\n",
    "    ax.set_title('Hydrogen Production Cost Distribution', pad=20, fontsize=12)\n",
    "    ax.set_xlabel('Cumulative Production Potential (kt)', fontsize=10)\n",
    "    ax.set_ylabel('LCOH (USD/kgH2)', fontsize=10)\n",
    "    \n",
    "    # Grid and limits\n",
    "    ax.grid(True, linestyle='--', alpha=0.3)\n",
    "    ax.set_ylim(0, max_cost)\n",
    "    \n",
    "    # X-axis ticks every 50kt\n",
    "    step = 50000\n",
    "    ax.set_xticks(np.arange(0, len(costs) * 1000, step))\n",
    "    ax.set_xticklabels([f'{int(x/1000)}k' for x in ax.get_xticks()])\n",
    "    \n",
    "    plt.tight_layout()\n",
    "    plt.show()\n",
    "    \n",
    "    # fig.savefig(save_path, dpi=300, bbox_inches='tight', facecolor='white')\n",
    "    plt.close(fig)\n",
    "    \n",
    "plot_cost_distribution(gdf_data, 'Vientiane trucking production cost', 'cost_distribution.png', 10)"
   ]
  },
  {
   "cell_type": "markdown",
   "metadata": {},
   "source": [
    "## Waterfall Chart"
   ]
  },
  {
   "cell_type": "code",
   "execution_count": 12,
   "metadata": {},
   "outputs": [],
   "source": [
    "test= 'Vientiane LCOH - trucking battery costs portion'"
   ]
  },
  {
   "cell_type": "code",
   "execution_count": 16,
   "metadata": {},
   "outputs": [
    {
     "data": {
      "text/plain": [
       "'battery'"
      ]
     },
     "execution_count": 16,
     "metadata": {},
     "output_type": "execute_result"
    }
   ],
   "source": [
    "test.split(\" - \")[1].split(\" \")[1]"
   ]
  },
  {
   "cell_type": "code",
   "execution_count": 13,
   "metadata": {},
   "outputs": [
    {
     "data": {
      "text/plain": [
       "['trucking battery costs', 'Total']"
      ]
     },
     "execution_count": 13,
     "metadata": {},
     "output_type": "execute_result"
    }
   ],
   "source": [
    "label = [test.split(\" - \")[1].replace(f' trucking', '').replace(' portion', '')] + [\"Total\"]\n",
    "\n",
    "label"
   ]
  },
  {
   "cell_type": "code",
   "execution_count": 15,
   "metadata": {},
   "outputs": [],
   "source": [
    "def generate_waterfall_chart(gdf, transport_type):\n",
    "    # Find the min-cost hexagon in the pipeline or trucking data\n",
    "    min_hexagon = gdf.loc[gdf[f'Vientiane {transport_type} production cost'].idxmin()]\n",
    "\n",
    "    # Define the columns for the cost breakdown\n",
    "    columns = [\n",
    "        f'Vientiane LCOH - {transport_type} battery costs portion',\n",
    "        f'Vientiane LCOH - {transport_type} electrolyzer portion',\n",
    "        f'Vientiane LCOH - {transport_type} H2 storage portion',\n",
    "        # f'Vientiane LCOH - {transport_type} wind portion',\n",
    "        f'Vientiane LCOH - {transport_type} solar portion',\n",
    "        f'Vientiane LCOH - {transport_type} hydro portion'\n",
    "    ]\n",
    "\n",
    "    # Extract the actual cost values from the selected hexagon\n",
    "    cost_values = {col: min_hexagon[col] for col in columns}\n",
    "\n",
    "    # Calculate total LCOH cost for the transport method\n",
    "    total_cost = min_hexagon[f'Vientiane {transport_type} production cost']\n",
    "\n",
    "    # Create lists for the waterfall chart\n",
    "    measures = [\"relative\"] * len(columns) + [\"total\"]\n",
    "    labels = [col.split(\" - \")[1].replace(f' {transport_type}', '').replace(' portion', '') for col in columns] + [\"Total\"]\n",
    "    values = list(cost_values.values()) + [0]  # 0 for total, as it will be auto-calculated\n",
    "    texts = [f\"{value:.2f}\" for value in cost_values.values()] + [f\"{total_cost:.2f}\"]\n",
    "\n",
    "    # Create the waterfall chart with improved aesthetics\n",
    "    fig = go.Figure(go.Waterfall(\n",
    "        name=\"LCOH Cost Breakdown\",  # Removed transport type from title\n",
    "        orientation=\"v\",\n",
    "        measure=measures,\n",
    "        x=labels,\n",
    "        y=values,\n",
    "        text=texts,\n",
    "        connector={\"line\": {\"color\": \"rgb(63, 63, 63)\", \"dash\": \"dot\"}},\n",
    "        increasing={\"marker\": {\"color\": \"#0000ff\"}},  # Blue color for increasing\n",
    "        decreasing={\"marker\": {\"color\": \"#ff7f0e\"}},  # Orange color for decreasing\n",
    "        totals={\"marker\": {\"color\": \"#000000\"}}  # Black color for total\n",
    "    ))\n",
    "\n",
    "    # Update layout to increase font sizes and improve the overall look\n",
    "    fig.update_layout(\n",
    "        # title=f\"{transport_type.capitalize()} LCOH Cost Breakdown\",\n",
    "        xaxis_title=\"Cost Portions\",\n",
    "        yaxis_title=\"LCOH [USD/kgH2]\",\n",
    "        xaxis=dict(\n",
    "            tickfont=dict(color='black', size=20),  # Increased x-axis tick labels font size\n",
    "            titlefont=dict(color='black', size=22),  # Increased x-axis title font size\n",
    "        ),\n",
    "        yaxis=dict(\n",
    "            tickfont=dict(color='black', size=20),  # Increased y-axis tick labels font size\n",
    "            titlefont=dict(color='black', size=22),  # Increased y-axis title font size\n",
    "            showgrid=True,\n",
    "            gridcolor='lightgrey'  # Light grey grid lines for y-axis\n",
    "        ),\n",
    "        plot_bgcolor='white',  # Set plot background color to white\n",
    "        showlegend=False,\n",
    "        width=900,\n",
    "        height=600,\n",
    "        font=dict(size=18),  # General font size increase\n",
    "        margin=dict(l=50, r=50, t=100, b=50)\n",
    "    )\n",
    "\n",
    "    # Show the plot\n",
    "    fig.show()"
   ]
  },
  {
   "cell_type": "code",
   "execution_count": 16,
   "metadata": {},
   "outputs": [],
   "source": [
    "def generate_waterfall_chart(gdf, transport_type):\n",
    "    # Find the min-cost hexagon in the pipeline or trucking data\n",
    "    min_hexagon = gdf.loc[gdf[f'Vientiane {transport_type} production cost'].idxmin()]\n",
    "\n",
    "    # Define the columns and their corresponding custom labels\n",
    "    columns_and_labels = [\n",
    "        (f'Vientiane LCOH - {transport_type} battery costs portion', 'Battery'),\n",
    "        (f'Vientiane LCOH - {transport_type} electrolyzer portion', 'Electrolyzer'),\n",
    "        (f'Vientiane LCOH - {transport_type} H2 storage portion', 'H2 Storage'),\n",
    "        # (f'Vientiane LCOH - {transport_type} wind portion', 'Wind'),\n",
    "        (f'Vientiane LCOH - {transport_type} solar portion', 'Solar'),\n",
    "        (f'Vientiane LCOH - {transport_type} hydro portion', 'Hydro')\n",
    "    ]\n",
    "\n",
    "    # Extract columns and labels\n",
    "    columns = [item[0] for item in columns_and_labels]\n",
    "    labels = [item[1] for item in columns_and_labels] + [\"Total\"]\n",
    "\n",
    "    # Extract the actual cost values from the selected hexagon\n",
    "    cost_values = {col: min_hexagon[col] for col in columns}\n",
    "\n",
    "    # Calculate total LCOH cost for the transport method\n",
    "    total_cost = min_hexagon[f'Vientiane {transport_type} production cost']\n",
    "\n",
    "    # Create lists for the waterfall chart\n",
    "    measures = [\"relative\"] * len(columns) + [\"total\"]\n",
    "    values = list(cost_values.values()) + [0]  # 0 for total, as it will be auto-calculated\n",
    "    texts = [f\"{value:.2f}\" for value in cost_values.values()] + [f\"{total_cost:.2f}\"]\n",
    "\n",
    "    # Rest of the function remains the same\n",
    "    fig = go.Figure(go.Waterfall(\n",
    "        # name=\"LCOH Cost Breakdown\",\n",
    "        orientation=\"v\",\n",
    "        measure=measures,\n",
    "        x=labels,\n",
    "        y=values,\n",
    "        text=texts,\n",
    "        connector={\"line\": {\"color\": \"rgb(63, 63, 63)\", \"dash\": \"dot\"}},\n",
    "        increasing={\"marker\": {\"color\": \"#0000ff\"}},\n",
    "        decreasing={\"marker\": {\"color\": \"#ff7f0e\"}},\n",
    "        totals={\"marker\": {\"color\": \"#000000\"}}\n",
    "    ))\n",
    "\n",
    "    fig.update_layout(\n",
    "        xaxis_title=\"Cost Portions\",\n",
    "        yaxis_title=\"LCOH [USD/kgH2]\",\n",
    "        xaxis=dict(\n",
    "            tickfont=dict(color='black', size=20),\n",
    "            titlefont=dict(color='black', size=22),\n",
    "        ),\n",
    "        yaxis=dict(\n",
    "            tickfont=dict(color='black', size=20),\n",
    "            titlefont=dict(color='black', size=22),\n",
    "            showgrid=True,\n",
    "            gridcolor='lightgrey'\n",
    "        ),\n",
    "        plot_bgcolor='white',\n",
    "        showlegend=False,\n",
    "        width=550,\n",
    "        height=500,\n",
    "        font=dict(size=18),\n",
    "        margin=dict(l=50, r=50, t=100, b=50)\n",
    "    )\n",
    "\n",
    "    fig.show()"
   ]
  },
  {
   "cell_type": "code",
   "execution_count": 17,
   "metadata": {},
   "outputs": [
    {
     "data": {
      "application/vnd.plotly.v1+json": {
       "config": {
        "plotlyServerURL": "https://plot.ly"
       },
       "data": [
        {
         "connector": {
          "line": {
           "color": "rgb(63, 63, 63)",
           "dash": "dot"
          }
         },
         "decreasing": {
          "marker": {
           "color": "#ff7f0e"
          }
         },
         "increasing": {
          "marker": {
           "color": "#0000ff"
          }
         },
         "measure": [
          "relative",
          "relative",
          "relative",
          "relative",
          "relative",
          "total"
         ],
         "orientation": "v",
         "text": [
          "0.29",
          "1.92",
          "0.31",
          "3.83",
          "1.85",
          "8.20"
         ],
         "totals": {
          "marker": {
           "color": "#000000"
          }
         },
         "type": "waterfall",
         "x": [
          "Battery",
          "Electrolyzer",
          "H2 Storage",
          "Solar",
          "Hydro",
          "Total"
         ],
         "y": [
          0.29283478509027006,
          1.9176372324903865,
          0.3076235222226678,
          3.8261689174386913,
          1.8531997078276468,
          0
         ]
        }
       ],
       "layout": {
        "font": {
         "size": 18
        },
        "height": 500,
        "margin": {
         "b": 50,
         "l": 50,
         "r": 50,
         "t": 100
        },
        "plot_bgcolor": "white",
        "showlegend": false,
        "template": {
         "data": {
          "bar": [
           {
            "error_x": {
             "color": "#2a3f5f"
            },
            "error_y": {
             "color": "#2a3f5f"
            },
            "marker": {
             "line": {
              "color": "#E5ECF6",
              "width": 0.5
             },
             "pattern": {
              "fillmode": "overlay",
              "size": 10,
              "solidity": 0.2
             }
            },
            "type": "bar"
           }
          ],
          "barpolar": [
           {
            "marker": {
             "line": {
              "color": "#E5ECF6",
              "width": 0.5
             },
             "pattern": {
              "fillmode": "overlay",
              "size": 10,
              "solidity": 0.2
             }
            },
            "type": "barpolar"
           }
          ],
          "carpet": [
           {
            "aaxis": {
             "endlinecolor": "#2a3f5f",
             "gridcolor": "white",
             "linecolor": "white",
             "minorgridcolor": "white",
             "startlinecolor": "#2a3f5f"
            },
            "baxis": {
             "endlinecolor": "#2a3f5f",
             "gridcolor": "white",
             "linecolor": "white",
             "minorgridcolor": "white",
             "startlinecolor": "#2a3f5f"
            },
            "type": "carpet"
           }
          ],
          "choropleth": [
           {
            "colorbar": {
             "outlinewidth": 0,
             "ticks": ""
            },
            "type": "choropleth"
           }
          ],
          "contour": [
           {
            "colorbar": {
             "outlinewidth": 0,
             "ticks": ""
            },
            "colorscale": [
             [
              0,
              "#0d0887"
             ],
             [
              0.1111111111111111,
              "#46039f"
             ],
             [
              0.2222222222222222,
              "#7201a8"
             ],
             [
              0.3333333333333333,
              "#9c179e"
             ],
             [
              0.4444444444444444,
              "#bd3786"
             ],
             [
              0.5555555555555556,
              "#d8576b"
             ],
             [
              0.6666666666666666,
              "#ed7953"
             ],
             [
              0.7777777777777778,
              "#fb9f3a"
             ],
             [
              0.8888888888888888,
              "#fdca26"
             ],
             [
              1,
              "#f0f921"
             ]
            ],
            "type": "contour"
           }
          ],
          "contourcarpet": [
           {
            "colorbar": {
             "outlinewidth": 0,
             "ticks": ""
            },
            "type": "contourcarpet"
           }
          ],
          "heatmap": [
           {
            "colorbar": {
             "outlinewidth": 0,
             "ticks": ""
            },
            "colorscale": [
             [
              0,
              "#0d0887"
             ],
             [
              0.1111111111111111,
              "#46039f"
             ],
             [
              0.2222222222222222,
              "#7201a8"
             ],
             [
              0.3333333333333333,
              "#9c179e"
             ],
             [
              0.4444444444444444,
              "#bd3786"
             ],
             [
              0.5555555555555556,
              "#d8576b"
             ],
             [
              0.6666666666666666,
              "#ed7953"
             ],
             [
              0.7777777777777778,
              "#fb9f3a"
             ],
             [
              0.8888888888888888,
              "#fdca26"
             ],
             [
              1,
              "#f0f921"
             ]
            ],
            "type": "heatmap"
           }
          ],
          "heatmapgl": [
           {
            "colorbar": {
             "outlinewidth": 0,
             "ticks": ""
            },
            "colorscale": [
             [
              0,
              "#0d0887"
             ],
             [
              0.1111111111111111,
              "#46039f"
             ],
             [
              0.2222222222222222,
              "#7201a8"
             ],
             [
              0.3333333333333333,
              "#9c179e"
             ],
             [
              0.4444444444444444,
              "#bd3786"
             ],
             [
              0.5555555555555556,
              "#d8576b"
             ],
             [
              0.6666666666666666,
              "#ed7953"
             ],
             [
              0.7777777777777778,
              "#fb9f3a"
             ],
             [
              0.8888888888888888,
              "#fdca26"
             ],
             [
              1,
              "#f0f921"
             ]
            ],
            "type": "heatmapgl"
           }
          ],
          "histogram": [
           {
            "marker": {
             "pattern": {
              "fillmode": "overlay",
              "size": 10,
              "solidity": 0.2
             }
            },
            "type": "histogram"
           }
          ],
          "histogram2d": [
           {
            "colorbar": {
             "outlinewidth": 0,
             "ticks": ""
            },
            "colorscale": [
             [
              0,
              "#0d0887"
             ],
             [
              0.1111111111111111,
              "#46039f"
             ],
             [
              0.2222222222222222,
              "#7201a8"
             ],
             [
              0.3333333333333333,
              "#9c179e"
             ],
             [
              0.4444444444444444,
              "#bd3786"
             ],
             [
              0.5555555555555556,
              "#d8576b"
             ],
             [
              0.6666666666666666,
              "#ed7953"
             ],
             [
              0.7777777777777778,
              "#fb9f3a"
             ],
             [
              0.8888888888888888,
              "#fdca26"
             ],
             [
              1,
              "#f0f921"
             ]
            ],
            "type": "histogram2d"
           }
          ],
          "histogram2dcontour": [
           {
            "colorbar": {
             "outlinewidth": 0,
             "ticks": ""
            },
            "colorscale": [
             [
              0,
              "#0d0887"
             ],
             [
              0.1111111111111111,
              "#46039f"
             ],
             [
              0.2222222222222222,
              "#7201a8"
             ],
             [
              0.3333333333333333,
              "#9c179e"
             ],
             [
              0.4444444444444444,
              "#bd3786"
             ],
             [
              0.5555555555555556,
              "#d8576b"
             ],
             [
              0.6666666666666666,
              "#ed7953"
             ],
             [
              0.7777777777777778,
              "#fb9f3a"
             ],
             [
              0.8888888888888888,
              "#fdca26"
             ],
             [
              1,
              "#f0f921"
             ]
            ],
            "type": "histogram2dcontour"
           }
          ],
          "mesh3d": [
           {
            "colorbar": {
             "outlinewidth": 0,
             "ticks": ""
            },
            "type": "mesh3d"
           }
          ],
          "parcoords": [
           {
            "line": {
             "colorbar": {
              "outlinewidth": 0,
              "ticks": ""
             }
            },
            "type": "parcoords"
           }
          ],
          "pie": [
           {
            "automargin": true,
            "type": "pie"
           }
          ],
          "scatter": [
           {
            "fillpattern": {
             "fillmode": "overlay",
             "size": 10,
             "solidity": 0.2
            },
            "type": "scatter"
           }
          ],
          "scatter3d": [
           {
            "line": {
             "colorbar": {
              "outlinewidth": 0,
              "ticks": ""
             }
            },
            "marker": {
             "colorbar": {
              "outlinewidth": 0,
              "ticks": ""
             }
            },
            "type": "scatter3d"
           }
          ],
          "scattercarpet": [
           {
            "marker": {
             "colorbar": {
              "outlinewidth": 0,
              "ticks": ""
             }
            },
            "type": "scattercarpet"
           }
          ],
          "scattergeo": [
           {
            "marker": {
             "colorbar": {
              "outlinewidth": 0,
              "ticks": ""
             }
            },
            "type": "scattergeo"
           }
          ],
          "scattergl": [
           {
            "marker": {
             "colorbar": {
              "outlinewidth": 0,
              "ticks": ""
             }
            },
            "type": "scattergl"
           }
          ],
          "scattermapbox": [
           {
            "marker": {
             "colorbar": {
              "outlinewidth": 0,
              "ticks": ""
             }
            },
            "type": "scattermapbox"
           }
          ],
          "scatterpolar": [
           {
            "marker": {
             "colorbar": {
              "outlinewidth": 0,
              "ticks": ""
             }
            },
            "type": "scatterpolar"
           }
          ],
          "scatterpolargl": [
           {
            "marker": {
             "colorbar": {
              "outlinewidth": 0,
              "ticks": ""
             }
            },
            "type": "scatterpolargl"
           }
          ],
          "scatterternary": [
           {
            "marker": {
             "colorbar": {
              "outlinewidth": 0,
              "ticks": ""
             }
            },
            "type": "scatterternary"
           }
          ],
          "surface": [
           {
            "colorbar": {
             "outlinewidth": 0,
             "ticks": ""
            },
            "colorscale": [
             [
              0,
              "#0d0887"
             ],
             [
              0.1111111111111111,
              "#46039f"
             ],
             [
              0.2222222222222222,
              "#7201a8"
             ],
             [
              0.3333333333333333,
              "#9c179e"
             ],
             [
              0.4444444444444444,
              "#bd3786"
             ],
             [
              0.5555555555555556,
              "#d8576b"
             ],
             [
              0.6666666666666666,
              "#ed7953"
             ],
             [
              0.7777777777777778,
              "#fb9f3a"
             ],
             [
              0.8888888888888888,
              "#fdca26"
             ],
             [
              1,
              "#f0f921"
             ]
            ],
            "type": "surface"
           }
          ],
          "table": [
           {
            "cells": {
             "fill": {
              "color": "#EBF0F8"
             },
             "line": {
              "color": "white"
             }
            },
            "header": {
             "fill": {
              "color": "#C8D4E3"
             },
             "line": {
              "color": "white"
             }
            },
            "type": "table"
           }
          ]
         },
         "layout": {
          "annotationdefaults": {
           "arrowcolor": "#2a3f5f",
           "arrowhead": 0,
           "arrowwidth": 1
          },
          "autotypenumbers": "strict",
          "coloraxis": {
           "colorbar": {
            "outlinewidth": 0,
            "ticks": ""
           }
          },
          "colorscale": {
           "diverging": [
            [
             0,
             "#8e0152"
            ],
            [
             0.1,
             "#c51b7d"
            ],
            [
             0.2,
             "#de77ae"
            ],
            [
             0.3,
             "#f1b6da"
            ],
            [
             0.4,
             "#fde0ef"
            ],
            [
             0.5,
             "#f7f7f7"
            ],
            [
             0.6,
             "#e6f5d0"
            ],
            [
             0.7,
             "#b8e186"
            ],
            [
             0.8,
             "#7fbc41"
            ],
            [
             0.9,
             "#4d9221"
            ],
            [
             1,
             "#276419"
            ]
           ],
           "sequential": [
            [
             0,
             "#0d0887"
            ],
            [
             0.1111111111111111,
             "#46039f"
            ],
            [
             0.2222222222222222,
             "#7201a8"
            ],
            [
             0.3333333333333333,
             "#9c179e"
            ],
            [
             0.4444444444444444,
             "#bd3786"
            ],
            [
             0.5555555555555556,
             "#d8576b"
            ],
            [
             0.6666666666666666,
             "#ed7953"
            ],
            [
             0.7777777777777778,
             "#fb9f3a"
            ],
            [
             0.8888888888888888,
             "#fdca26"
            ],
            [
             1,
             "#f0f921"
            ]
           ],
           "sequentialminus": [
            [
             0,
             "#0d0887"
            ],
            [
             0.1111111111111111,
             "#46039f"
            ],
            [
             0.2222222222222222,
             "#7201a8"
            ],
            [
             0.3333333333333333,
             "#9c179e"
            ],
            [
             0.4444444444444444,
             "#bd3786"
            ],
            [
             0.5555555555555556,
             "#d8576b"
            ],
            [
             0.6666666666666666,
             "#ed7953"
            ],
            [
             0.7777777777777778,
             "#fb9f3a"
            ],
            [
             0.8888888888888888,
             "#fdca26"
            ],
            [
             1,
             "#f0f921"
            ]
           ]
          },
          "colorway": [
           "#636efa",
           "#EF553B",
           "#00cc96",
           "#ab63fa",
           "#FFA15A",
           "#19d3f3",
           "#FF6692",
           "#B6E880",
           "#FF97FF",
           "#FECB52"
          ],
          "font": {
           "color": "#2a3f5f"
          },
          "geo": {
           "bgcolor": "white",
           "lakecolor": "white",
           "landcolor": "#E5ECF6",
           "showlakes": true,
           "showland": true,
           "subunitcolor": "white"
          },
          "hoverlabel": {
           "align": "left"
          },
          "hovermode": "closest",
          "mapbox": {
           "style": "light"
          },
          "paper_bgcolor": "white",
          "plot_bgcolor": "#E5ECF6",
          "polar": {
           "angularaxis": {
            "gridcolor": "white",
            "linecolor": "white",
            "ticks": ""
           },
           "bgcolor": "#E5ECF6",
           "radialaxis": {
            "gridcolor": "white",
            "linecolor": "white",
            "ticks": ""
           }
          },
          "scene": {
           "xaxis": {
            "backgroundcolor": "#E5ECF6",
            "gridcolor": "white",
            "gridwidth": 2,
            "linecolor": "white",
            "showbackground": true,
            "ticks": "",
            "zerolinecolor": "white"
           },
           "yaxis": {
            "backgroundcolor": "#E5ECF6",
            "gridcolor": "white",
            "gridwidth": 2,
            "linecolor": "white",
            "showbackground": true,
            "ticks": "",
            "zerolinecolor": "white"
           },
           "zaxis": {
            "backgroundcolor": "#E5ECF6",
            "gridcolor": "white",
            "gridwidth": 2,
            "linecolor": "white",
            "showbackground": true,
            "ticks": "",
            "zerolinecolor": "white"
           }
          },
          "shapedefaults": {
           "line": {
            "color": "#2a3f5f"
           }
          },
          "ternary": {
           "aaxis": {
            "gridcolor": "white",
            "linecolor": "white",
            "ticks": ""
           },
           "baxis": {
            "gridcolor": "white",
            "linecolor": "white",
            "ticks": ""
           },
           "bgcolor": "#E5ECF6",
           "caxis": {
            "gridcolor": "white",
            "linecolor": "white",
            "ticks": ""
           }
          },
          "title": {
           "x": 0.05
          },
          "xaxis": {
           "automargin": true,
           "gridcolor": "white",
           "linecolor": "white",
           "ticks": "",
           "title": {
            "standoff": 15
           },
           "zerolinecolor": "white",
           "zerolinewidth": 2
          },
          "yaxis": {
           "automargin": true,
           "gridcolor": "white",
           "linecolor": "white",
           "ticks": "",
           "title": {
            "standoff": 15
           },
           "zerolinecolor": "white",
           "zerolinewidth": 2
          }
         }
        },
        "width": 550,
        "xaxis": {
         "tickfont": {
          "color": "black",
          "size": 20
         },
         "title": {
          "font": {
           "color": "black",
           "size": 22
          },
          "text": "Cost Portions"
         }
        },
        "yaxis": {
         "gridcolor": "lightgrey",
         "showgrid": true,
         "tickfont": {
          "color": "black",
          "size": 20
         },
         "title": {
          "font": {
           "color": "black",
           "size": 22
          },
          "text": "LCOH [USD/kgH2]"
         }
        }
       }
      }
     },
     "metadata": {},
     "output_type": "display_data"
    }
   ],
   "source": [
    "generate_waterfall_chart(gdf_data, 'trucking')"
   ]
  },
  {
   "cell_type": "code",
   "execution_count": null,
   "metadata": {},
   "outputs": [],
   "source": []
  }
 ],
 "metadata": {
  "kernelspec": {
   "display_name": "base",
   "language": "python",
   "name": "python3"
  },
  "language_info": {
   "codemirror_mode": {
    "name": "ipython",
    "version": 3
   },
   "file_extension": ".py",
   "mimetype": "text/x-python",
   "name": "python",
   "nbconvert_exporter": "python",
   "pygments_lexer": "ipython3",
   "version": "3.12.3"
  }
 },
 "nbformat": 4,
 "nbformat_minor": 2
}
